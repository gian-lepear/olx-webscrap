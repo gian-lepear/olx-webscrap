{
 "cells": [
  {
   "cell_type": "code",
   "execution_count": 35,
   "metadata": {},
   "outputs": [],
   "source": [
    "import pandas as pd\n",
    "import folium\n",
    "from folium import plugins\n",
    "from selenium import webdriver\n",
    "import time\n",
    "import os"
   ]
  },
  {
   "cell_type": "markdown",
   "metadata": {},
   "source": [
    "O que este notebook ira realizar:\n",
    "----------------------------------\n",
    "\n",
    "1. Abre a planilha **GoogleLatLng.xlsx** em seguida salva seu conteudo em um DataFrame.\n",
    "2. Cria uma lista com as latitudes e longitudes retiradas da API do Google.\n",
    "3. Cria uma mapa de calor (HeatMap) com a biblioteca Folium\n",
    "4. Utiliza o Selenium para abrir o mapa em um navegador, fotografar e salva-lo em seguida\n",
    "5. Fecha o navegador após salvar a imagem"
   ]
  },
  {
   "cell_type": "code",
   "execution_count": 36,
   "metadata": {},
   "outputs": [],
   "source": [
    "#abre a planilha criada com as Latitudes e Longitudes da API do google e os dados retirados do site da OLX\n",
    "df = pd.read_excel('../4-GoogleLatLng/GoogleLatLng.xlsx')"
   ]
  },
  {
   "cell_type": "code",
   "execution_count": 37,
   "metadata": {},
   "outputs": [],
   "source": [
    "#cria uma lista com as latitudes e longitudes\n",
    "list_latlng = df[['lat','lng']].values.tolist()"
   ]
  },
  {
   "cell_type": "code",
   "execution_count": 38,
   "metadata": {},
   "outputs": [],
   "source": [
    "#cria um mapa com as coordenadas do primeiro ponto da lista\n",
    "m = folium.Map(list(list_latlng[0]), zoom_start=11.2)"
   ]
  },
  {
   "cell_type": "code",
   "execution_count": 39,
   "metadata": {},
   "outputs": [],
   "source": [
    "#adiciona os pontos no mapa criado como Mapa de Calor, o parametro radius é utilizado para definir o tamanho das manchas no mapa de calor\n",
    "m.add_child(plugins.HeatMap(list_latlng, radius=12))\n",
    "\n",
    "#cria uma varivel com o nome do html onde sera guardado o mapa\n",
    "fn='testmap.html'\n",
    "\n",
    "#Salva o mapa no html\n",
    "m.save(fn)"
   ]
  },
  {
   "cell_type": "code",
   "execution_count": 40,
   "metadata": {},
   "outputs": [],
   "source": [
    "#Guarda o caminho do mapa em uma variavel\n",
    "tmpurl='file://{path}/{mapfile}'.format(path=os.getcwd(),mapfile=fn)"
   ]
  },
  {
   "cell_type": "code",
   "execution_count": 41,
   "metadata": {},
   "outputs": [],
   "source": [
    "#abre o Chrome com o selenium e seu respectivo webdriver que esta na pasta do projeto\n",
    "browser = webdriver.Chrome(executable_path=r\"chromedriver.exe\")\n",
    "\n",
    "#abre o html criado pelo Folium\n",
    "browser.get(tmpurl)\n",
    "\n",
    "#O delay é utilizado para o navegador carregar o mapa criado pelo Folium\n",
    "time.sleep(5)\n",
    "\n",
    "#Selenium tira um screenshot do mapa\n",
    "browser.save_screenshot('map.png')\n",
    "\n",
    "#Fecha o navegador do Selenium\n",
    "browser.quit()"
   ]
  }
 ],
 "metadata": {
  "kernelspec": {
   "display_name": "Python 3",
   "language": "python",
   "name": "python3"
  },
  "language_info": {
   "codemirror_mode": {
    "name": "ipython",
    "version": 3
   },
   "file_extension": ".py",
   "mimetype": "text/x-python",
   "name": "python",
   "nbconvert_exporter": "python",
   "pygments_lexer": "ipython3",
   "version": "3.6.1"
  }
 },
 "nbformat": 4,
 "nbformat_minor": 2
}
