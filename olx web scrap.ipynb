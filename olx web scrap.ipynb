{
 "cells": [
  {
   "cell_type": "code",
   "execution_count": 34,
   "metadata": {
    "collapsed": true
   },
   "outputs": [],
   "source": [
    "from bs4 import BeautifulSoup\n",
    "import pandas as pd\n",
    "import numpy as np\n",
    "import requests"
   ]
  },
  {
   "cell_type": "code",
   "execution_count": 35,
   "metadata": {
    "collapsed": true
   },
   "outputs": [],
   "source": [
    "# r = requests.get('http://www.olx.com.br/imoveis?o=1&sp=1')"
   ]
  },
  {
   "cell_type": "code",
   "execution_count": 36,
   "metadata": {
    "collapsed": true
   },
   "outputs": [],
   "source": [
    "# soup = BeautifulSoup(r.content, 'html.parser')"
   ]
  },
  {
   "cell_type": "code",
   "execution_count": 37,
   "metadata": {
    "collapsed": true
   },
   "outputs": [],
   "source": [
    "# li_list = []\n",
    "# for ultag in soup.find_all('ul', {'class': 'list', 'id':'main-ad-list' }):\n",
    "#     for litag in ultag.find_all(lambda tag: tag.name == 'li' and tag.get('class') == ['item']):\n",
    "#         li_list.append(litag)"
   ]
  },
  {
   "cell_type": "code",
   "execution_count": 38,
   "metadata": {
    "collapsed": true
   },
   "outputs": [],
   "source": [
    "# x = BeautifulSoup(str(li_list[0]), 'html.parser')"
   ]
  },
  {
   "cell_type": "code",
   "execution_count": 39,
   "metadata": {
    "collapsed": true
   },
   "outputs": [],
   "source": [
    "#info = x.find('div', {'class':'col-2'})\n",
    "#cidade_estado = info.find('div', {'class':'OLXad-list-line-2'}).find('p', {'class':'text detail-region'}).text.replace('\\n','').replace('\\t','')\n",
    "#categoria = info.find('div', {'class':'OLXad-list-line-2'}).find('p', {'class':'text detail-category'}).text.replace('\\n','').replace('\\t','')\n",
    "#titulo = info.find('div', {'class':'OLXad-list-line-1 mb5px'}).find('h3', {'class':'OLXad-list-title mb5px'}).text.replace('\\n','').replace('\\t','')\n",
    "#preco = x.find('div', {'class':'col-3'}).find('p', {'class':'OLXad-list-price'}).text.replace('\\t','').replace('R$', '')"
   ]
  },
  {
   "cell_type": "code",
   "execution_count": null,
   "metadata": {
    "collapsed": true
   },
   "outputs": [],
   "source": []
  },
  {
   "cell_type": "code",
   "execution_count": 40,
   "metadata": {
    "collapsed": true
   },
   "outputs": [],
   "source": [
    "#comando1 = encontraValores('titulo','info',['div','h3'], ['OLXad-list-line-1 mb5px','OLXad-list-title mb5px'])"
   ]
  },
  {
   "cell_type": "code",
   "execution_count": 41,
   "metadata": {
    "collapsed": true
   },
   "outputs": [],
   "source": [
    "#caomando2 = encontraValores('info_preco','x', 'div', 'col-3')"
   ]
  },
  {
   "cell_type": "code",
   "execution_count": 42,
   "metadata": {
    "collapsed": true
   },
   "outputs": [],
   "source": [
    "#usando a função para pegar os valores :D\n",
    "#info -> html com as listas de casas\n",
    "#cidade_estado -> local\n",
    "#categoria -> categoria que esta no site\n",
    "#titulo -> titulo que esta no site\n",
    "#preco -> preco no site do imovel"
   ]
  },
  {
   "cell_type": "code",
   "execution_count": 43,
   "metadata": {
    "collapsed": true
   },
   "outputs": [],
   "source": [
    "#comando1 = encontraValores('info','x', 'div', 'col-2')\n",
    "#comando2 = encontraValores('cidade_estado', 'info', ['div', 'p'], ['OLXad-list-line-2','text detail-region'], True)\n",
    "#comando3 = encontraValores('categoria', 'info', ['div', 'p'], ['OLXad-list-line-2','text detail-category'], True)\n",
    "#comando4 = encontraValores('titulo','info',['div','h3'], ['OLXad-list-line-1 mb5px','OLXad-list-title mb5px'], True)\n",
    "#comando5 = encontraValores('preco','x',['div','p'], ['col-3','OLXad-list-price'], True)"
   ]
  },
  {
   "cell_type": "code",
   "execution_count": 44,
   "metadata": {
    "collapsed": true
   },
   "outputs": [],
   "source": [
    "#exec(comando1)\n",
    "#exec(comando2)\n",
    "#exec(comando3)\n",
    "#exec(comando4)\n",
    "#exec(comando5)"
   ]
  },
  {
   "cell_type": "code",
   "execution_count": null,
   "metadata": {
    "collapsed": true
   },
   "outputs": [],
   "source": []
  },
  {
   "cell_type": "code",
   "execution_count": 45,
   "metadata": {
    "collapsed": true
   },
   "outputs": [],
   "source": [
    "#df = pd.DataFrame.from_dict([dict(zip(labels, valores))])"
   ]
  },
  {
   "cell_type": "code",
   "execution_count": 46,
   "metadata": {
    "collapsed": true
   },
   "outputs": [],
   "source": [
    "#rodar todo o bagulho doido\n",
    "#botar tudo em uma lista/dict\n",
    "#tacar num dataframe\n",
    "#ser feliz"
   ]
  },
  {
   "cell_type": "code",
   "execution_count": 47,
   "metadata": {
    "collapsed": true,
    "slideshow": {
     "slide_type": "-"
    }
   },
   "outputs": [],
   "source": [
    "def  encontraValores(variavel, html, tag, classe, texto=False):\n",
    "    retiraEspecial = \".text.replace('\\\\n','').replace('\\\\t','').replace('R$ ', '')\"\n",
    "    if type(tag) == list and type(classe) == list:\n",
    "        if len(tag) != len(classe):\n",
    "            return 'classe e tag precisam ter o mesmo numero de elementos'\n",
    "        else:\n",
    "            x = ''.join('.find(\\''+ tg +'\\', {\\'class\\':\\''+ cl +'\\'})' for cl, tg in zip(classe, tag))\n",
    "    else:\n",
    "        x = ''.join('.find(\\''+ tag +'\\', {\\'class\\':\\''+ classe +'\\'})')\n",
    "    comando = variavel + \"=\" +html+ x + retiraEspecial if texto else variavel + \"=\" +html+ x\n",
    "    return comando"
   ]
  },
  {
   "cell_type": "code",
   "execution_count": 48,
   "metadata": {
    "collapsed": true
   },
   "outputs": [],
   "source": [
    "#zera as listas\n",
    "labels = ['municipio','estado', 'categoria', 'titulo', 'preco', 'href']\n",
    "valores = []\n",
    "li_list = []"
   ]
  },
  {
   "cell_type": "code",
   "execution_count": 49,
   "metadata": {},
   "outputs": [],
   "source": [
    "for iter in range(100):\n",
    "    r = requests.get(\"http://sp.olx.com.br/sao-paulo-e-regiao/zona-leste/imoveis?o=\"+str(iter))\n",
    "#     r = requests.get('http://www.olx.com.br/imoveis?o='+str(iter)+'&sp=1')\n",
    "    soup = BeautifulSoup(r.content, 'html.parser')    \n",
    "    for ultag in soup.find_all('ul', {'class': 'list', 'id':'main-ad-list' }):\n",
    "        for litag in ultag.find_all(lambda tag: tag.name == 'li' and tag.get('class') == ['item']):\n",
    "            li_list.append(litag)"
   ]
  },
  {
   "cell_type": "code",
   "execution_count": 51,
   "metadata": {},
   "outputs": [
    {
     "ename": "ValueError",
     "evalue": "could not convert string to float: ' 35.000.000'",
     "output_type": "error",
     "traceback": [
      "\u001b[1;31m---------------------------------------------------------------------------\u001b[0m",
      "\u001b[1;31mValueError\u001b[0m                                Traceback (most recent call last)",
      "\u001b[1;32m<ipython-input-51-10d660c1f739>\u001b[0m in \u001b[0;36m<module>\u001b[1;34m()\u001b[0m\n\u001b[0;32m     22\u001b[0m \u001b[1;31m#     teste = soup.find('div', {'class':'OLXad-location mb20px'}).find_all('strong',{'class':'description'})\u001b[0m\u001b[1;33m\u001b[0m\u001b[1;33m\u001b[0m\u001b[0m\n\u001b[0;32m     23\u001b[0m \u001b[1;33m\u001b[0m\u001b[0m\n\u001b[1;32m---> 24\u001b[1;33m     \u001b[0mvalores\u001b[0m\u001b[1;33m.\u001b[0m\u001b[0mappend\u001b[0m\u001b[1;33m(\u001b[0m\u001b[1;33m[\u001b[0m\u001b[0mcidade_estado\u001b[0m\u001b[1;33m[\u001b[0m\u001b[1;33m:\u001b[0m\u001b[1;33m-\u001b[0m\u001b[1;36m5\u001b[0m\u001b[1;33m]\u001b[0m\u001b[1;33m,\u001b[0m\u001b[0mcidade_estado\u001b[0m\u001b[1;33m[\u001b[0m\u001b[1;33m-\u001b[0m\u001b[1;36m2\u001b[0m\u001b[1;33m:\u001b[0m\u001b[1;33m]\u001b[0m\u001b[1;33m,\u001b[0m\u001b[0mcategoria\u001b[0m\u001b[1;33m,\u001b[0m\u001b[0mtitulo\u001b[0m\u001b[1;33m,\u001b[0m\u001b[0mfloat\u001b[0m\u001b[1;33m(\u001b[0m\u001b[0mpreco\u001b[0m\u001b[1;33m)\u001b[0m\u001b[1;33m,\u001b[0m \u001b[0mhref\u001b[0m\u001b[1;33m[\u001b[0m\u001b[1;34m'href'\u001b[0m\u001b[1;33m]\u001b[0m\u001b[1;33m]\u001b[0m\u001b[1;33m)\u001b[0m\u001b[1;33m\u001b[0m\u001b[0m\n\u001b[0m\u001b[0;32m     25\u001b[0m \u001b[1;31m#     valores.append([cidade_estado[:-5],cidade_estado[-2:],categoria,titulo,float(preco), href['href'], cep])\u001b[0m\u001b[1;33m\u001b[0m\u001b[1;33m\u001b[0m\u001b[0m\n",
      "\u001b[1;31mValueError\u001b[0m: could not convert string to float: ' 35.000.000'"
     ]
    }
   ],
   "source": [
    "for elements in li_list:\n",
    "    x = BeautifulSoup(str(elements), 'html.parser')\n",
    "    #cria os comandos\n",
    "    comando1 = encontraValores('info','x', 'div', 'col-2')\n",
    "    comando2 = encontraValores('cidade_estado', 'info', ['div', 'p'], ['OLXad-list-line-2','text detail-region'], True)\n",
    "    comando3 = encontraValores('categoria', 'info', ['div', 'p'], ['OLXad-list-line-2','text detail-category'], True)\n",
    "    comando4 = encontraValores('titulo','info',['div','h3'], ['OLXad-list-line-1 mb5px','OLXad-list-title mb5px'], True)\n",
    "    comando5 = encontraValores('preco','x',['div','p'], ['col-3','OLXad-list-price'], True)\n",
    "    comando6 = encontraValores('href', 'x', 'a', 'OLXad-list-link')\n",
    "    #roda os comandos\n",
    "    exec(comando1)\n",
    "    exec(comando2)\n",
    "    exec(comando3)\n",
    "    exec(comando4)\n",
    "    try:\n",
    "        exec(comando5)\n",
    "    except:\n",
    "        preco = 0.0\n",
    "    exec(comando6)\n",
    "#     conteudo2 = requests.get(href['href'])\n",
    "#     soup = BeautifulSoup(conteudo2.content, 'html.parser')\n",
    "#     teste = soup.find('div', {'class':'OLXad-location mb20px'}).find_all('strong',{'class':'description'})\n",
    "    \n",
    "    valores.append([cidade_estado[:-5],cidade_estado[-2:],categoria,titulo,float(preco), href['href']])\n",
    "#     valores.append([cidade_estado[:-5],cidade_estado[-2:],categoria,titulo,float(preco), href['href'], cep])"
   ]
  },
  {
   "cell_type": "code",
   "execution_count": null,
   "metadata": {
    "collapsed": true
   },
   "outputs": [],
   "source": [
    "df = pd.DataFrame(valores, columns=labels)"
   ]
  },
  {
   "cell_type": "code",
   "execution_count": null,
   "metadata": {
    "collapsed": true
   },
   "outputs": [],
   "source": [
    "df['categoria'] = df['categoria'].astype('category')"
   ]
  },
  {
   "cell_type": "code",
   "execution_count": null,
   "metadata": {
    "collapsed": true
   },
   "outputs": [],
   "source": [
    "x = df.iloc[0]"
   ]
  },
  {
   "cell_type": "code",
   "execution_count": null,
   "metadata": {
    "collapsed": true
   },
   "outputs": [],
   "source": []
  },
  {
   "cell_type": "code",
   "execution_count": null,
   "metadata": {
    "collapsed": true
   },
   "outputs": [],
   "source": [
    "conteudo2 = requests.get(href['href'])\n",
    "soup = BeautifulSoup(conteudo2.content, 'html.parser')\n",
    "teste = soup.find('div', {'class':'OLXad-location mb20px'}).find_all('strong',{'class':'description'})"
   ]
  },
  {
   "cell_type": "code",
   "execution_count": null,
   "metadata": {},
   "outputs": [],
   "source": [
    "teste[1].text"
   ]
  },
  {
   "cell_type": "code",
   "execution_count": null,
   "metadata": {},
   "outputs": [],
   "source": [
    "df.head()"
   ]
  },
  {
   "cell_type": "code",
   "execution_count": null,
   "metadata": {},
   "outputs": [],
   "source": [
    "df.describe()"
   ]
  },
  {
   "cell_type": "code",
   "execution_count": null,
   "metadata": {
    "collapsed": true
   },
   "outputs": [],
   "source": []
  }
 ],
 "metadata": {
  "kernelspec": {
   "display_name": "Python 3",
   "language": "python",
   "name": "python3"
  },
  "language_info": {
   "codemirror_mode": {
    "name": "ipython",
    "version": 3
   },
   "file_extension": ".py",
   "mimetype": "text/x-python",
   "name": "python",
   "nbconvert_exporter": "python",
   "pygments_lexer": "ipython3",
   "version": "3.6.1"
  }
 },
 "nbformat": 4,
 "nbformat_minor": 2
}
