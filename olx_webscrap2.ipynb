{
 "cells": [
  {
   "cell_type": "code",
   "execution_count": 1,
   "metadata": {},
   "outputs": [],
   "source": [
    "from bs4 import BeautifulSoup\n",
    "import pandas as pd\n",
    "import numpy as np\n",
    "import requests\n",
    "import re\n",
    "import concurrent\n",
    "from time import sleep\n",
    "import folium\n",
    "from folium import plugins"
   ]
  },
  {
   "cell_type": "code",
   "execution_count": 2,
   "metadata": {},
   "outputs": [],
   "source": [
    "labels = ['municipio','estado', 'categoria', 'titulo', 'preco', 'href']\n",
    "valores = []\n",
    "li_list = []\n",
    "# li_list2 = []\n",
    "cep_dict = {}\n",
    "soup_list = []\n",
    "url = \"http://sp.olx.com.br/sao-paulo-e-regiao/zona-leste/imoveis?o=\"\n",
    "regx = re.compile('\\d{5}-\\d{3}')"
   ]
  },
  {
   "cell_type": "code",
   "execution_count": 3,
   "metadata": {},
   "outputs": [],
   "source": [
    "def retornaSoupOLX(url, num):\n",
    "    for iter in range(num):\n",
    "        r = requests.get(str(url)+str(iter))\n",
    "        soup = BeautifulSoup(r.content, 'html.parser')\n",
    "        for ultag in soup.find_all('ul', {'class': 'list', 'id':'main-ad-list' }):\n",
    "            for litag in ultag.find_all(lambda tag: tag.name == 'li' and tag.get('class') == ['item']):\n",
    "                li_list.append(litag)"
   ]
  },
  {
   "cell_type": "code",
   "execution_count": 4,
   "metadata": {},
   "outputs": [],
   "source": [
    "# def PopulaListaLi(soup):"
   ]
  },
  {
   "cell_type": "code",
   "execution_count": 5,
   "metadata": {},
   "outputs": [],
   "source": [
    "def tiraEspecialString(string):\n",
    "    return string.text.replace('\\n','').replace('\\t','').replace('R$ ', '').replace('.', '')"
   ]
  },
  {
   "cell_type": "code",
   "execution_count": 6,
   "metadata": {},
   "outputs": [],
   "source": [
    "def tiraEspecialFloat(string):\n",
    "    return string.text.replace('\\n','').replace('\\t','').replace('R$ ', '').replace('.', '').replace(',', '.')"
   ]
  },
  {
   "cell_type": "code",
   "execution_count": 7,
   "metadata": {},
   "outputs": [
    {
     "name": "stdout",
     "output_type": "stream",
     "text": [
      "Wall time: 0 ns\n"
     ]
    }
   ],
   "source": [
    "%%time\n",
    "def criaListaValores(li_list):\n",
    "    for elements in li_list:\n",
    "        x = BeautifulSoup(str(elements), 'html.parser')\n",
    "        #encontra a parte onde estão as informaçoes no html\n",
    "        info = x.find('div', {'class':'col-2'})\n",
    "        #encontra a string onde estão o municipio e estado separados por virgula\n",
    "        cidade_estado = tiraEspecialString(info.find('div', {'class':'OLXad-list-line-2'}).find('p', {'class':'text detail-region'}))\n",
    "        #encontra a categoria do anuncio\n",
    "        categoria = tiraEspecialString(info.find('div', {'class':'OLXad-list-line-2'}).find('p', {'class':'text detail-category'}))\n",
    "        #encontra o titulo do anuncio\n",
    "        titulo = tiraEspecialString(info.find('div', {'class':'OLXad-list-line-1 mb5px'}).find('h3', {'class':'OLXad-list-title mb5px'}))\n",
    "        #encontra o html do preço\n",
    "        preco = x.find('div', {'class':'col-3'})\n",
    "        \n",
    "        #trata o html do preço verificando se existe ou não\n",
    "        if preco.find('p', {'class':'OLXad-list-price'}):\n",
    "            preco = tiraEspecialFloat(x.find('div', {'class':'col-3'}).find('p', {'class':'OLXad-list-price'}))\n",
    "        else:\n",
    "            preco = 0.0\n",
    "        #retorna a tag href \"link do anuncio\"\n",
    "        href=x.find('a', {'class':'OLXad-list-link'})\n",
    "        \n",
    "        #retorna o conteudo do atributo href na tag href\n",
    "        href = href['href'].strip(' \\t\\n\\r')\n",
    "        #separa string  onde estão o municipio\n",
    "        municipio = cidade_estado.split(',',1)[1].strip(' \\t\\n\\r')\n",
    "        #separa o estado da string onde estão o municipio\n",
    "        estado = cidade_estado.split(',',1)[0].strip(' \\t\\n\\r')\n",
    "        categoria = categoria.strip(' \\t\\n\\r')\n",
    "        titulo = titulo.strip(' \\t\\n\\r')\n",
    "        valores.append([municipio, estado,categoria, titulo, preco, href])"
   ]
  },
  {
   "cell_type": "code",
   "execution_count": 8,
   "metadata": {},
   "outputs": [],
   "source": [
    "def findCEP(url):\n",
    "    r = requests.get(url)\n",
    "    sleep(2)\n",
    "    soup = BeautifulSoup(r.content, 'html.parser')\n",
    "    cep = soup.find(lambda tag: tag.name == 'strong' and tag.get('class') == ['description'] and regx.match(tag.text.strip(' \\t\\n\\r')) is not None)\n",
    "    if cep:\n",
    "        cep_dict.update({url:cep.text.strip(' \\t\\n\\r')})\n",
    "#         li_list2.append([url,cep.text.strip(' \\t\\n\\r')])\n",
    "    else:\n",
    "        cep_dict.update({url:''})\n",
    "#         li_list2.append('')"
   ]
  },
  {
   "cell_type": "code",
   "execution_count": 9,
   "metadata": {},
   "outputs": [],
   "source": [
    "#encontrar url geral\n",
    "#encontrar lis\n",
    "#popular valores das lis\n",
    "#criar df\n",
    "#ver o head do df"
   ]
  },
  {
   "cell_type": "code",
   "execution_count": 10,
   "metadata": {},
   "outputs": [
    {
     "name": "stdout",
     "output_type": "stream",
     "text": [
      "Wall time: 1min 5s\n"
     ]
    }
   ],
   "source": [
    "%%time\n",
    "soup = retornaSoupOLX(url, 100)"
   ]
  },
  {
   "cell_type": "code",
   "execution_count": 11,
   "metadata": {},
   "outputs": [],
   "source": [
    "# PopulaListaLi(soup)"
   ]
  },
  {
   "cell_type": "code",
   "execution_count": 12,
   "metadata": {},
   "outputs": [
    {
     "name": "stdout",
     "output_type": "stream",
     "text": [
      "Wall time: 14.5 s\n"
     ]
    }
   ],
   "source": [
    "%%time\n",
    "criaListaValores(li_list)"
   ]
  },
  {
   "cell_type": "code",
   "execution_count": 13,
   "metadata": {},
   "outputs": [
    {
     "name": "stdout",
     "output_type": "stream",
     "text": [
      "Wall time: 2.5 ms\n"
     ]
    }
   ],
   "source": [
    "%%time\n",
    "df = pd.DataFrame(valores, columns=labels)"
   ]
  },
  {
   "cell_type": "code",
   "execution_count": 14,
   "metadata": {},
   "outputs": [
    {
     "name": "stdout",
     "output_type": "stream",
     "text": [
      "Wall time: 500 µs\n"
     ]
    }
   ],
   "source": [
    "%%time\n",
    "list_href = list(df['href'])"
   ]
  },
  {
   "cell_type": "code",
   "execution_count": 15,
   "metadata": {},
   "outputs": [
    {
     "name": "stdout",
     "output_type": "stream",
     "text": [
      "Wall time: 5min 55s\n"
     ]
    }
   ],
   "source": [
    "%%time\n",
    "with concurrent.futures.ThreadPoolExecutor(max_workers=20) as e:\n",
    "     e.map(findCEP, list_href)"
   ]
  },
  {
   "cell_type": "code",
   "execution_count": 16,
   "metadata": {},
   "outputs": [
    {
     "data": {
      "text/plain": [
       "4949"
      ]
     },
     "execution_count": 16,
     "metadata": {},
     "output_type": "execute_result"
    }
   ],
   "source": [
    "len(cep_dict)"
   ]
  },
  {
   "cell_type": "code",
   "execution_count": 17,
   "metadata": {},
   "outputs": [
    {
     "name": "stdout",
     "output_type": "stream",
     "text": [
      "Wall time: 3 ms\n"
     ]
    }
   ],
   "source": [
    "%%time\n",
    "df['cep'] = df['href'].map(cep_dict)"
   ]
  },
  {
   "cell_type": "code",
   "execution_count": 18,
   "metadata": {},
   "outputs": [
    {
     "name": "stdout",
     "output_type": "stream",
     "text": [
      "Wall time: 1.87 s\n"
     ]
    }
   ],
   "source": [
    "%%time\n",
    "df.to_excel('test_ddos.xlsx')"
   ]
  },
  {
   "cell_type": "code",
   "execution_count": 19,
   "metadata": {},
   "outputs": [
    {
     "name": "stdout",
     "output_type": "stream",
     "text": [
      "<class 'pandas.core.frame.DataFrame'>\n",
      "RangeIndex: 5000 entries, 0 to 4999\n",
      "Data columns (total 7 columns):\n",
      "municipio    5000 non-null object\n",
      "estado       5000 non-null object\n",
      "categoria    5000 non-null object\n",
      "titulo       5000 non-null object\n",
      "preco        5000 non-null object\n",
      "href         5000 non-null object\n",
      "cep          4999 non-null object\n",
      "dtypes: object(7)\n",
      "memory usage: 273.5+ KB\n"
     ]
    }
   ],
   "source": [
    "df.info()"
   ]
  },
  {
   "cell_type": "code",
   "execution_count": 22,
   "metadata": {},
   "outputs": [
    {
     "data": {
      "text/html": [
       "<div>\n",
       "<style>\n",
       "    .dataframe thead tr:only-child th {\n",
       "        text-align: right;\n",
       "    }\n",
       "\n",
       "    .dataframe thead th {\n",
       "        text-align: left;\n",
       "    }\n",
       "\n",
       "    .dataframe tbody tr th {\n",
       "        vertical-align: top;\n",
       "    }\n",
       "</style>\n",
       "<table border=\"1\" class=\"dataframe\">\n",
       "  <thead>\n",
       "    <tr style=\"text-align: right;\">\n",
       "      <th></th>\n",
       "      <th>municipio</th>\n",
       "      <th>estado</th>\n",
       "      <th>categoria</th>\n",
       "      <th>titulo</th>\n",
       "      <th>preco</th>\n",
       "      <th>href</th>\n",
       "      <th>cep</th>\n",
       "    </tr>\n",
       "  </thead>\n",
       "  <tbody>\n",
       "    <tr>\n",
       "      <th>0</th>\n",
       "      <td>Belenzinho</td>\n",
       "      <td>(São Paulo, Apartamentos)</td>\n",
       "      <td>Apartamentos</td>\n",
       "      <td>Camino Belem (ZL1244) Desocupado || Lazer Comp...</td>\n",
       "      <td>660000</td>\n",
       "      <td>http://sp.olx.com.br/sao-paulo-e-regiao/imovei...</td>\n",
       "      <td>03058-000</td>\n",
       "    </tr>\n",
       "    <tr>\n",
       "      <th>1</th>\n",
       "      <td>Belenzinho</td>\n",
       "      <td>(São Paulo, Apartamentos)</td>\n",
       "      <td>Apartamentos</td>\n",
       "      <td>Rossi Lumina (ZL1243) Mobiliado || Lazer Completo</td>\n",
       "      <td>850000</td>\n",
       "      <td>http://sp.olx.com.br/sao-paulo-e-regiao/imovei...</td>\n",
       "      <td>03059-005</td>\n",
       "    </tr>\n",
       "    <tr>\n",
       "      <th>2</th>\n",
       "      <td>Mooca</td>\n",
       "      <td>(São Paulo, Apartamentos)</td>\n",
       "      <td>Apartamentos</td>\n",
       "      <td>Apartamento mooca totalmente reformado ótima l...</td>\n",
       "      <td>2000</td>\n",
       "      <td>http://sp.olx.com.br/sao-paulo-e-regiao/imovei...</td>\n",
       "      <td>03121-020</td>\n",
       "    </tr>\n",
       "    <tr>\n",
       "      <th>3</th>\n",
       "      <td>Vila Bertioga</td>\n",
       "      <td>(São Paulo, Casas)</td>\n",
       "      <td>Casas</td>\n",
       "      <td>Sobrado Vila Bertioga,3 dormitorios 1 suite 3 ...</td>\n",
       "      <td>4000</td>\n",
       "      <td>http://sp.olx.com.br/sao-paulo-e-regiao/imovei...</td>\n",
       "      <td>03181-010</td>\n",
       "    </tr>\n",
       "    <tr>\n",
       "      <th>4</th>\n",
       "      <td>Vila Independência</td>\n",
       "      <td>(São Paulo, Indústria e comércio)</td>\n",
       "      <td>Indústria e comércio</td>\n",
       "      <td>Loja física de AÇAÍ</td>\n",
       "      <td>35000</td>\n",
       "      <td>http://sp.olx.com.br/sao-paulo-e-regiao/indust...</td>\n",
       "      <td>04222-000</td>\n",
       "    </tr>\n",
       "    <tr>\n",
       "      <th>5</th>\n",
       "      <td>Mooca</td>\n",
       "      <td>(São Paulo, Casas- Anúncio Profissional)</td>\n",
       "      <td>Casas- Anúncio Profissional</td>\n",
       "      <td>Casa Mooca, 2 dormitórios, sala, cozinha, wc</td>\n",
       "      <td>1300</td>\n",
       "      <td>http://sp.olx.com.br/sao-paulo-e-regiao/imovei...</td>\n",
       "      <td>03165-000</td>\n",
       "    </tr>\n",
       "    <tr>\n",
       "      <th>6</th>\n",
       "      <td>Vila Formosa</td>\n",
       "      <td>(São Paulo, Apartamentos- Anúncio Profissional)</td>\n",
       "      <td>Apartamentos- Anúncio Profissional</td>\n",
       "      <td>Loft</td>\n",
       "      <td>400000</td>\n",
       "      <td>http://sp.olx.com.br/sao-paulo-e-regiao/imovei...</td>\n",
       "      <td>03357-050</td>\n",
       "    </tr>\n",
       "    <tr>\n",
       "      <th>7</th>\n",
       "      <td>Alto da Mooca</td>\n",
       "      <td>(São Paulo, Indústria e comércio)</td>\n",
       "      <td>Indústria e comércio</td>\n",
       "      <td>Loja assistência técnica de celular</td>\n",
       "      <td>18000</td>\n",
       "      <td>http://sp.olx.com.br/sao-paulo-e-regiao/indust...</td>\n",
       "      <td>03176-001</td>\n",
       "    </tr>\n",
       "    <tr>\n",
       "      <th>8</th>\n",
       "      <td>Mooca</td>\n",
       "      <td>(São Paulo, Apartamentos- Anúncio Profissional)</td>\n",
       "      <td>Apartamentos- Anúncio Profissional</td>\n",
       "      <td>Apartamento Padrão</td>\n",
       "      <td>899000</td>\n",
       "      <td>http://sp.olx.com.br/sao-paulo-e-regiao/imovei...</td>\n",
       "      <td>03119-001</td>\n",
       "    </tr>\n",
       "    <tr>\n",
       "      <th>9</th>\n",
       "      <td>Vila Carrão</td>\n",
       "      <td>(São Paulo, Indústria e comércio- Anúncio Prof...</td>\n",
       "      <td>Indústria e comércio- Anúncio Profissional</td>\n",
       "      <td>Sala comercial à venda, Vila Carrão, São Paulo</td>\n",
       "      <td>284000</td>\n",
       "      <td>http://sp.olx.com.br/sao-paulo-e-regiao/indust...</td>\n",
       "      <td>03402-001</td>\n",
       "    </tr>\n",
       "  </tbody>\n",
       "</table>\n",
       "</div>"
      ],
      "text/plain": [
       "            municipio                                             estado  \\\n",
       "0          Belenzinho                          (São Paulo, Apartamentos)   \n",
       "1          Belenzinho                          (São Paulo, Apartamentos)   \n",
       "2               Mooca                          (São Paulo, Apartamentos)   \n",
       "3       Vila Bertioga                                 (São Paulo, Casas)   \n",
       "4  Vila Independência                  (São Paulo, Indústria e comércio)   \n",
       "5               Mooca           (São Paulo, Casas- Anúncio Profissional)   \n",
       "6        Vila Formosa    (São Paulo, Apartamentos- Anúncio Profissional)   \n",
       "7       Alto da Mooca                  (São Paulo, Indústria e comércio)   \n",
       "8               Mooca    (São Paulo, Apartamentos- Anúncio Profissional)   \n",
       "9         Vila Carrão  (São Paulo, Indústria e comércio- Anúncio Prof...   \n",
       "\n",
       "                                    categoria  \\\n",
       "0                                Apartamentos   \n",
       "1                                Apartamentos   \n",
       "2                                Apartamentos   \n",
       "3                                       Casas   \n",
       "4                        Indústria e comércio   \n",
       "5                 Casas- Anúncio Profissional   \n",
       "6          Apartamentos- Anúncio Profissional   \n",
       "7                        Indústria e comércio   \n",
       "8          Apartamentos- Anúncio Profissional   \n",
       "9  Indústria e comércio- Anúncio Profissional   \n",
       "\n",
       "                                              titulo    preco  \\\n",
       "0  Camino Belem (ZL1244) Desocupado || Lazer Comp...   660000   \n",
       "1  Rossi Lumina (ZL1243) Mobiliado || Lazer Completo   850000   \n",
       "2  Apartamento mooca totalmente reformado ótima l...     2000   \n",
       "3  Sobrado Vila Bertioga,3 dormitorios 1 suite 3 ...     4000   \n",
       "4                                Loja física de AÇAÍ    35000   \n",
       "5       Casa Mooca, 2 dormitórios, sala, cozinha, wc     1300   \n",
       "6                                               Loft   400000   \n",
       "7                Loja assistência técnica de celular    18000   \n",
       "8                                 Apartamento Padrão   899000   \n",
       "9     Sala comercial à venda, Vila Carrão, São Paulo   284000   \n",
       "\n",
       "                                                href        cep  \n",
       "0  http://sp.olx.com.br/sao-paulo-e-regiao/imovei...  03058-000  \n",
       "1  http://sp.olx.com.br/sao-paulo-e-regiao/imovei...  03059-005  \n",
       "2  http://sp.olx.com.br/sao-paulo-e-regiao/imovei...  03121-020  \n",
       "3  http://sp.olx.com.br/sao-paulo-e-regiao/imovei...  03181-010  \n",
       "4  http://sp.olx.com.br/sao-paulo-e-regiao/indust...  04222-000  \n",
       "5  http://sp.olx.com.br/sao-paulo-e-regiao/imovei...  03165-000  \n",
       "6  http://sp.olx.com.br/sao-paulo-e-regiao/imovei...  03357-050  \n",
       "7  http://sp.olx.com.br/sao-paulo-e-regiao/indust...  03176-001  \n",
       "8  http://sp.olx.com.br/sao-paulo-e-regiao/imovei...  03119-001  \n",
       "9  http://sp.olx.com.br/sao-paulo-e-regiao/indust...  03402-001  "
      ]
     },
     "execution_count": 22,
     "metadata": {},
     "output_type": "execute_result"
    }
   ],
   "source": [
    "df.head(10)"
   ]
  },
  {
   "cell_type": "code",
   "execution_count": 15,
   "metadata": {},
   "outputs": [
    {
     "ename": "NameError",
     "evalue": "name 'df' is not defined",
     "output_type": "error",
     "traceback": [
      "\u001b[1;31m---------------------------------------------------------------------------\u001b[0m",
      "\u001b[1;31mNameError\u001b[0m                                 Traceback (most recent call last)",
      "\u001b[1;32m<ipython-input-15-0ccbae110543>\u001b[0m in \u001b[0;36m<module>\u001b[1;34m()\u001b[0m\n\u001b[1;32m----> 1\u001b[1;33m \u001b[0mdf\u001b[0m\u001b[1;33m.\u001b[0m\u001b[0mmunicipio\u001b[0m\u001b[1;33m.\u001b[0m\u001b[0munique\u001b[0m\u001b[1;33m\u001b[0m\u001b[0m\n\u001b[0m",
      "\u001b[1;31mNameError\u001b[0m: name 'df' is not defined"
     ]
    }
   ],
   "source": [
    "df.municipio.unique"
   ]
  },
  {
   "cell_type": "code",
   "execution_count": 3,
   "metadata": {},
   "outputs": [],
   "source": [
    "GOOGLE_MAPS_API_URL = 'http://maps.googleapis.com/maps/api/geocode/json'\n",
    "\n",
    "params = {\n",
    "    'address': 'Belenzinho, São Paulo',\n",
    "    'sensor': 'false',\n",
    "    'region': 'br'\n",
    "}\n",
    "req = requests.get(GOOGLE_MAPS_API_URL, params=params)\n",
    "res = req.json()"
   ]
  },
  {
   "cell_type": "code",
   "execution_count": 4,
   "metadata": {},
   "outputs": [
    {
     "data": {
      "text/plain": [
       "(-23.5408347, -46.59450959999999)"
      ]
     },
     "execution_count": 4,
     "metadata": {},
     "output_type": "execute_result"
    }
   ],
   "source": [
    "res['results'][0]['geometry']['location']['lat'], res['results'][0]['geometry']['location']['lng']"
   ]
  },
  {
   "cell_type": "code",
   "execution_count": 9,
   "metadata": {},
   "outputs": [],
   "source": [
    "m = folium.Map([res['results'][0]['geometry']['location']['lat'], res['results'][0]['geometry']['location']['lng']], zoom_start=20)"
   ]
  },
  {
   "cell_type": "code",
   "execution_count": 13,
   "metadata": {},
   "outputs": [],
   "source": [
    "# from folium.plugins import HeatMap\n",
    "# HeatMap().add_to(m)"
   ]
  },
  {
   "cell_type": "code",
   "execution_count": null,
   "metadata": {},
   "outputs": [],
   "source": []
  }
 ],
 "metadata": {
  "kernelspec": {
   "display_name": "Python 3",
   "language": "python",
   "name": "python3"
  },
  "language_info": {
   "codemirror_mode": {
    "name": "ipython",
    "version": 3
   },
   "file_extension": ".py",
   "mimetype": "text/x-python",
   "name": "python",
   "nbconvert_exporter": "python",
   "pygments_lexer": "ipython3",
   "version": "3.6.1"
  }
 },
 "nbformat": 4,
 "nbformat_minor": 2
}
