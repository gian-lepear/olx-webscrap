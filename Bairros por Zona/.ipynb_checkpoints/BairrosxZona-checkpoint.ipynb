{
 "cells": [
  {
   "cell_type": "code",
   "execution_count": 9,
   "metadata": {},
   "outputs": [],
   "source": [
    "import requests\n",
    "import pandas as pd\n",
    "from bs4 import BeautifulSoup"
   ]
  },
  {
   "cell_type": "code",
   "execution_count": 10,
   "metadata": {},
   "outputs": [],
   "source": [
    "url_oeste = 'https://noticias.bol.uol.com.br/brasil/2012/10/07/confira-todos-os-distritos-e-bairros-da-zona-oeste-de-sp.jhtm'"
   ]
  },
  {
   "cell_type": "code",
   "execution_count": 155,
   "metadata": {},
   "outputs": [
    {
     "data": {
      "text/html": [
       "<div>\n",
       "<style>\n",
       "    .dataframe thead tr:only-child th {\n",
       "        text-align: right;\n",
       "    }\n",
       "\n",
       "    .dataframe thead th {\n",
       "        text-align: left;\n",
       "    }\n",
       "\n",
       "    .dataframe tbody tr th {\n",
       "        vertical-align: top;\n",
       "    }\n",
       "</style>\n",
       "<table border=\"1\" class=\"dataframe\">\n",
       "  <thead>\n",
       "    <tr style=\"text-align: right;\">\n",
       "      <th></th>\n",
       "      <th>bairro</th>\n",
       "      <th>zona</th>\n",
       "    </tr>\n",
       "  </thead>\n",
       "  <tbody>\n",
       "    <tr>\n",
       "      <th>0</th>\n",
       "      <td>Alto de Pinheiros</td>\n",
       "      <td>oeste</td>\n",
       "    </tr>\n",
       "    <tr>\n",
       "      <th>1</th>\n",
       "      <td>Jardim Atibaia</td>\n",
       "      <td>oeste</td>\n",
       "    </tr>\n",
       "    <tr>\n",
       "      <th>2</th>\n",
       "      <td>Vila Beatriz</td>\n",
       "      <td>oeste</td>\n",
       "    </tr>\n",
       "    <tr>\n",
       "      <th>3</th>\n",
       "      <td>Sitio Boa Vista</td>\n",
       "      <td>oeste</td>\n",
       "    </tr>\n",
       "    <tr>\n",
       "      <th>4</th>\n",
       "      <td>Boaçava</td>\n",
       "      <td>oeste</td>\n",
       "    </tr>\n",
       "  </tbody>\n",
       "</table>\n",
       "</div>"
      ],
      "text/plain": [
       "              bairro   zona\n",
       "0  Alto de Pinheiros  oeste\n",
       "1     Jardim Atibaia  oeste\n",
       "2       Vila Beatriz  oeste\n",
       "3    Sitio Boa Vista  oeste\n",
       "4            Boaçava  oeste"
      ]
     },
     "execution_count": 155,
     "metadata": {},
     "output_type": "execute_result"
    }
   ],
   "source": [
    "df_oeste = pd.read_html(url_oeste, match=\"ZONA OESTE\")\n",
    "df_oeste = df_oeste[0]\n",
    "df_oeste.columns = ['bairro']\n",
    "df_oeste.drop(0, inplace=True)\n",
    "df_oeste.count()\n",
    "remove = ['ALTO DE PINHEIROS', 'BARRA FUNDA', 'BUTANTÃ', 'ITAIM-BIBI','JAGUARA','JAGUARÉ','JARDIM PAULISTA','LAPA','MORUMBI','PERDIZES','PINHEIROS','RAPOSO TAVARES','RIO PEQUENO','VILA LEOPOLDINA','VILA SÔNIA']\n",
    "for bairro in remove:\n",
    "    df_oeste = df_oeste.drop(df[df['bairro']== bairro].index)\n",
    "df_oeste.reset_index(inplace=True)\n",
    "df_oeste = df[['bairro']]\n",
    "df_oeste['zona'] = 'oeste'\n",
    "df_oeste.head()"
   ]
  },
  {
   "cell_type": "code",
   "execution_count": 72,
   "metadata": {},
   "outputs": [],
   "source": [
    "url_sul = 'https://noticias.bol.uol.com.br/brasil/2012/10/07/confira-todos-os-distritos-e-bairros-da-zona-sul-de-sp.jhtm'"
   ]
  },
  {
   "cell_type": "code",
   "execution_count": 73,
   "metadata": {},
   "outputs": [],
   "source": [
    "r = requests.get(str(url_sul))"
   ]
  },
  {
   "cell_type": "code",
   "execution_count": 119,
   "metadata": {},
   "outputs": [],
   "source": [
    "df_sul1 = pd.read_html(url_sul, match='ZONA SUL 1')\n",
    "df_sul1 = df_sul1[0]\n",
    "\n",
    "df_sul2 = pd.read_html(url_sul, match='ZONA SUL 2')\n",
    "df_sul2=df_sul2[0]\n",
    "\n",
    "reg = '([A-Z]{3,100})\\w'\n",
    "df_sul1.columns = ['bairro']\n",
    "filter = df_sul1['bairro'].str.contains(reg)\n",
    "df_sul1 = df_sul1[~filter]\n",
    "df_sul1.columns = ['bairro']\n",
    "df_sul1.reset_index(drop=True, inplace=True)\n",
    "\n",
    "df_sul2.columns = ['bairro']\n",
    "filter = df_sul2['bairro'].str.contains(reg)\n",
    "df_sul2 = df_sul2[~filter]\n",
    "df_sul2.columns = ['bairro']\n",
    "df_sul2.reset_index(drop=True, inplace=True)\n",
    "\n",
    "df_sul = pd.concat([df_sul1, df_sul2])\n",
    "\n",
    "df_sul1.count()\n",
    "\n",
    "df_sul2.count()\n",
    "\n",
    "df_sul['zona'] = 'sul'"
   ]
  },
  {
   "cell_type": "code",
   "execution_count": 122,
   "metadata": {},
   "outputs": [],
   "source": [
    "url_leste = 'https://noticias.bol.uol.com.br/brasil/2012/10/07/veja-todos-os-distritos-e-bairros-da-zona-leste-de-sp.jhtm'"
   ]
  },
  {
   "cell_type": "code",
   "execution_count": 129,
   "metadata": {},
   "outputs": [
    {
     "name": "stderr",
     "output_type": "stream",
     "text": [
      "C:\\ProgramData\\Anaconda3\\lib\\site-packages\\ipykernel_launcher.py:9: UserWarning: This pattern has match groups. To actually get the groups, use str.extract.\n",
      "  if __name__ == '__main__':\n",
      "C:\\ProgramData\\Anaconda3\\lib\\site-packages\\ipykernel_launcher.py:15: UserWarning: This pattern has match groups. To actually get the groups, use str.extract.\n",
      "  from ipykernel import kernelapp as app\n"
     ]
    }
   ],
   "source": [
    "df_leste1 = pd.read_html(url_leste, match='ZONA LESTE 1')\n",
    "df_leste1 = df_leste1[0]\n",
    "\n",
    "df_leste2 = pd.read_html(url_leste, match='ZONA LESTE 2')\n",
    "df_leste2= df_leste2[0]\n",
    "\n",
    "reg = '([A-Z]{3,100})\\w'\n",
    "df_leste1.columns = ['bairro']\n",
    "filter = df_leste1['bairro'].str.contains(reg)\n",
    "df_leste1 = df_leste1[~filter]\n",
    "df_leste1.columns = ['bairro']\n",
    "df_leste1.reset_index(drop=True, inplace=True)\n",
    "\n",
    "df_leste2.columns = ['bairro']\n",
    "filter = df_leste2['bairro'].str.contains(reg)\n",
    "df_leste2 = df_leste2[~filter]\n",
    "df_leste2.columns = ['bairro']\n",
    "df_leste2.reset_index(drop=True, inplace=True)\n",
    "\n",
    "df_leste = pd.concat([df_leste1, df_leste2])\n",
    "\n",
    "df_leste1.count()\n",
    "\n",
    "df_leste2.count()\n",
    "df_leste.reset_index(drop=True, inplace=True)\n",
    "df_leste['zona'] = 'leste'"
   ]
  },
  {
   "cell_type": "code",
   "execution_count": 134,
   "metadata": {},
   "outputs": [],
   "source": [
    "url_norte = 'http://m.folha.uol.com.br/cotidiano/2012/10/1164607-confira-todos-os-distritos-e-bairros-da-zona-norte-de-sp.shtml?mobile'"
   ]
  },
  {
   "cell_type": "code",
   "execution_count": 149,
   "metadata": {},
   "outputs": [
    {
     "name": "stderr",
     "output_type": "stream",
     "text": [
      "C:\\ProgramData\\Anaconda3\\lib\\site-packages\\ipykernel_launcher.py:6: UserWarning: This pattern has match groups. To actually get the groups, use str.extract.\n",
      "  \n"
     ]
    }
   ],
   "source": [
    "df_norte = pd.read_html(url_norte, match='ZONA NORTE')\n",
    "df_norte = df_norte[0]\n",
    "\n",
    "reg = '([A-ZÁÀÂÃÉÈÍÏÓÔÕÖÚÇÑ]{3,100})\\w'\n",
    "df_norte.columns = ['bairro']\n",
    "filter = df_norte['bairro'].str.contains(reg)\n",
    "df_norte = df_norte[~filter]\n",
    "df_norte.columns = ['bairro']\n",
    "df_norte.reset_index(drop=True, inplace=True)\n",
    "\n",
    "df_norte.count()\n",
    "\n",
    "df_norte.reset_index(drop=True, inplace=True)\n",
    "df_norte['zona'] = 'norte'"
   ]
  },
  {
   "cell_type": "code",
   "execution_count": 152,
   "metadata": {},
   "outputs": [],
   "source": [
    "url_centro ='https://noticias.bol.uol.com.br/brasil/2012/10/07/conheca-todos-os-distritos-e-bairros-da-regiao-central-de-sp.jhtm'"
   ]
  },
  {
   "cell_type": "code",
   "execution_count": 153,
   "metadata": {},
   "outputs": [
    {
     "name": "stderr",
     "output_type": "stream",
     "text": [
      "C:\\ProgramData\\Anaconda3\\lib\\site-packages\\ipykernel_launcher.py:6: UserWarning: This pattern has match groups. To actually get the groups, use str.extract.\n",
      "  \n"
     ]
    }
   ],
   "source": [
    "df_centro = pd.read_html(url_centro, match='CENTRO')\n",
    "df_centro = df_centro[0]\n",
    "\n",
    "reg = '([A-ZÁÀÂÃÉÈÍÏÓÔÕÖÚÇÑ]{3,100})\\w'\n",
    "df_centro.columns = ['bairro']\n",
    "filter = df_centro['bairro'].str.contains(reg)\n",
    "df_centro = df_centro[~filter]\n",
    "df_centro.columns = ['bairro']\n",
    "df_centro.reset_index(drop=True, inplace=True)\n",
    "\n",
    "df_centro.count()\n",
    "\n",
    "df_centro.reset_index(drop=True, inplace=True)\n",
    "df_centro['zona'] = 'centro'"
   ]
  },
  {
   "cell_type": "code",
   "execution_count": 156,
   "metadata": {},
   "outputs": [],
   "source": [
    "zonas = [df_leste,df_centro, df_norte, df_sul, df_oeste]"
   ]
  },
  {
   "cell_type": "code",
   "execution_count": 158,
   "metadata": {},
   "outputs": [],
   "source": [
    "df_zonas = pd.concat(zonas)"
   ]
  },
  {
   "cell_type": "code",
   "execution_count": 161,
   "metadata": {},
   "outputs": [],
   "source": [
    "df_zonas.reset_index(drop=True, inplace=True)"
   ]
  },
  {
   "cell_type": "code",
   "execution_count": 163,
   "metadata": {},
   "outputs": [],
   "source": [
    "df_zonas.to_excel('BairrosxZona.xlsx')"
   ]
  },
  {
   "cell_type": "code",
   "execution_count": null,
   "metadata": {},
   "outputs": [],
   "source": []
  }
 ],
 "metadata": {
  "kernelspec": {
   "display_name": "Python 3",
   "language": "python",
   "name": "python3"
  },
  "language_info": {
   "codemirror_mode": {
    "name": "ipython",
    "version": 3
   },
   "file_extension": ".py",
   "mimetype": "text/x-python",
   "name": "python",
   "nbconvert_exporter": "python",
   "pygments_lexer": "ipython3",
   "version": "3.6.1"
  }
 },
 "nbformat": 4,
 "nbformat_minor": 2
}
