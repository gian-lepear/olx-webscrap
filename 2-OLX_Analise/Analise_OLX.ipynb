{
 "cells": [
  {
   "cell_type": "code",
   "execution_count": 1,
   "metadata": {},
   "outputs": [],
   "source": [
    "import pandas as pd\n",
    "import matplotlib.pyplot as plt\n",
    "import re\n",
    "import numpy as np\n",
    "%matplotlib inline"
   ]
  },
  {
   "cell_type": "markdown",
   "metadata": {},
   "source": [
    "O que este notebook ira realizar:\n",
    "---------------------------------\n",
    "\n",
    "1. Analise dos resultados dos notebooks anteriores retirados do site da OLX (50 registros de casas à venda em SP)\n",
    "2. Selecionar apenas os anuncios de Casas\n",
    "3. Agrupar os registros pelo bairro com a soma e media dos preços\n",
    "4. Mostrar os dez maiores valores do agrupamento em grafico usando a biblioteca **Matplotlib**"
   ]
  },
  {
   "cell_type": "code",
   "execution_count": 2,
   "metadata": {},
   "outputs": [],
   "source": [
    "df = pd.read_excel('1-OLX_WebScrap/1_OLX_SEM_CEP.xlsx')"
   ]
  },
  {
   "cell_type": "code",
   "execution_count": 3,
   "metadata": {},
   "outputs": [
    {
     "data": {
      "text/html": [
       "<div>\n",
       "<style>\n",
       "    .dataframe thead tr:only-child th {\n",
       "        text-align: right;\n",
       "    }\n",
       "\n",
       "    .dataframe thead th {\n",
       "        text-align: left;\n",
       "    }\n",
       "\n",
       "    .dataframe tbody tr th {\n",
       "        vertical-align: top;\n",
       "    }\n",
       "</style>\n",
       "<table border=\"1\" class=\"dataframe\">\n",
       "  <thead>\n",
       "    <tr style=\"text-align: right;\">\n",
       "      <th></th>\n",
       "      <th>categoria</th>\n",
       "      <th>titulo</th>\n",
       "      <th>preco</th>\n",
       "      <th>cep</th>\n",
       "      <th>bairro</th>\n",
       "      <th>profissional</th>\n",
       "    </tr>\n",
       "  </thead>\n",
       "  <tbody>\n",
       "    <tr>\n",
       "      <th>0</th>\n",
       "      <td>Terrenos, sítios e fazendas</td>\n",
       "      <td>Terreno 1000 m² Próximo da Região de Arujá, Gu...</td>\n",
       "      <td>40000</td>\n",
       "      <td>03720-120</td>\n",
       "      <td>Vila Paulistania</td>\n",
       "      <td>N</td>\n",
       "    </tr>\n",
       "    <tr>\n",
       "      <th>1</th>\n",
       "      <td>Casas</td>\n",
       "      <td>Ótima casa na Vila Curuça</td>\n",
       "      <td>350000</td>\n",
       "      <td>08070-001</td>\n",
       "      <td>Vila Norma</td>\n",
       "      <td>N</td>\n",
       "    </tr>\n",
       "    <tr>\n",
       "      <th>2</th>\n",
       "      <td>Aluguel de quartos</td>\n",
       "      <td>Vagas para moças(metrô Belem)</td>\n",
       "      <td>500</td>\n",
       "      <td>03174-020</td>\n",
       "      <td>Quarta Parada</td>\n",
       "      <td>N</td>\n",
       "    </tr>\n",
       "    <tr>\n",
       "      <th>3</th>\n",
       "      <td>Casas</td>\n",
       "      <td>Ótima casa em cond para locação Jardim Arize</td>\n",
       "      <td>700</td>\n",
       "      <td>03526-010</td>\n",
       "      <td>Jardim Maringá</td>\n",
       "      <td>N</td>\n",
       "    </tr>\n",
       "    <tr>\n",
       "      <th>4</th>\n",
       "      <td>Apartamentos</td>\n",
       "      <td>Apartamento alto padrão no Carrão 60M² com sui...</td>\n",
       "      <td>401000</td>\n",
       "      <td>03428-020</td>\n",
       "      <td>Vila Carrão</td>\n",
       "      <td>S</td>\n",
       "    </tr>\n",
       "  </tbody>\n",
       "</table>\n",
       "</div>"
      ],
      "text/plain": [
       "                     categoria  \\\n",
       "0  Terrenos, sítios e fazendas   \n",
       "1                        Casas   \n",
       "2           Aluguel de quartos   \n",
       "3                        Casas   \n",
       "4                 Apartamentos   \n",
       "\n",
       "                                              titulo   preco        cep  \\\n",
       "0  Terreno 1000 m² Próximo da Região de Arujá, Gu...   40000  03720-120   \n",
       "1                          Ótima casa na Vila Curuça  350000  08070-001   \n",
       "2                      Vagas para moças(metrô Belem)     500  03174-020   \n",
       "3       Ótima casa em cond para locação Jardim Arize     700  03526-010   \n",
       "4  Apartamento alto padrão no Carrão 60M² com sui...  401000  03428-020   \n",
       "\n",
       "              bairro profissional  \n",
       "0   Vila Paulistania            N  \n",
       "1         Vila Norma            N  \n",
       "2      Quarta Parada            N  \n",
       "3     Jardim Maringá            N  \n",
       "4        Vila Carrão            S  "
      ]
     },
     "execution_count": 3,
     "metadata": {},
     "output_type": "execute_result"
    }
   ],
   "source": [
    "df.head()"
   ]
  },
  {
   "cell_type": "code",
   "execution_count": 4,
   "metadata": {},
   "outputs": [],
   "source": [
    "df = df[['bairro', 'categoria', 'preco']]"
   ]
  },
  {
   "cell_type": "code",
   "execution_count": 5,
   "metadata": {},
   "outputs": [],
   "source": [
    "df.loc[:,['categoria']] = df['categoria'].astype('category')\n",
    "df.loc[:,['preco']] = df['preco'].astype(float)"
   ]
  },
  {
   "cell_type": "code",
   "execution_count": 6,
   "metadata": {},
   "outputs": [
    {
     "name": "stdout",
     "output_type": "stream",
     "text": [
      "<class 'pandas.core.frame.DataFrame'>\n",
      "Int64Index: 50 entries, 0 to 49\n",
      "Data columns (total 3 columns):\n",
      "bairro       50 non-null object\n",
      "categoria    50 non-null category\n",
      "preco        50 non-null float64\n",
      "dtypes: category(1), float64(1), object(1)\n",
      "memory usage: 1.4+ KB\n"
     ]
    }
   ],
   "source": [
    "df.info()"
   ]
  },
  {
   "cell_type": "code",
   "execution_count": 7,
   "metadata": {},
   "outputs": [
    {
     "data": {
      "text/plain": [
       "categoria\n",
       "Aluguel de quartos              1\n",
       "Apartamentos                   22\n",
       "Casas                          17\n",
       "Indústria e comércio            6\n",
       "Terrenos, sítios e fazendas     4\n",
       "Name: preco, dtype: int64"
      ]
     },
     "execution_count": 7,
     "metadata": {},
     "output_type": "execute_result"
    }
   ],
   "source": [
    "df.groupby(['categoria'])['preco'].count()"
   ]
  },
  {
   "cell_type": "code",
   "execution_count": 8,
   "metadata": {},
   "outputs": [
    {
     "data": {
      "text/plain": [
       "[Terrenos, sítios e fazendas, Casas, Aluguel de quartos, Apartamentos, Indústria e comércio]\n",
       "Categories (5, object): [Terrenos, sítios e fazendas, Casas, Aluguel de quartos, Apartamentos, Indústria e comércio]"
      ]
     },
     "execution_count": 8,
     "metadata": {},
     "output_type": "execute_result"
    }
   ],
   "source": [
    "df.categoria.unique()"
   ]
  },
  {
   "cell_type": "code",
   "execution_count": 9,
   "metadata": {},
   "outputs": [],
   "source": [
    "#Seleciona apenas anuncios de Categoria 'Casas'\n",
    "df_casa = df[df['categoria'] == 'Casas']\n",
    "#Reseta o index do DataFrame\n",
    "df_casa = df_casa.reset_index()\n",
    "#seleciona apenas a coluna bairro e preço\n",
    "df_casa = df_casa[['bairro', 'preco']]"
   ]
  },
  {
   "cell_type": "code",
   "execution_count": 10,
   "metadata": {},
   "outputs": [],
   "source": [
    "#cria um data frame com a soma dos precos dos bairros\n",
    "df_soma = df_casa.groupby(['bairro'], as_index=False)['preco'].sum()\n",
    "#ordena o DataFrame pelo preco descendente\n",
    "df_soma = df_soma.sort_values(by='preco',ascending=False)\n",
    "#Reseta o index do DataFrame\n",
    "df_soma = df_soma.reset_index(drop='index')"
   ]
  },
  {
   "cell_type": "code",
   "execution_count": 11,
   "metadata": {},
   "outputs": [],
   "source": [
    "#cria um data frame com a media dos precos dos bairros\n",
    "df_media = df_casa.groupby(['bairro'], as_index=False)['preco'].mean()\n",
    "#ordena o DataFrame pela media de preco descendente\n",
    "df_media = df_media.sort_values(by='preco',ascending=False)\n",
    "#Reseta o index do DataFrame\n",
    "df_media = df_media.reset_index(drop='index')"
   ]
  },
  {
   "cell_type": "code",
   "execution_count": 12,
   "metadata": {},
   "outputs": [],
   "source": [
    "#Seleciona os dez primeiros bairros da soma de preços\n",
    "df_soma_dez=df_soma.head(10)"
   ]
  },
  {
   "cell_type": "code",
   "execution_count": 13,
   "metadata": {},
   "outputs": [],
   "source": [
    "#Seleciona os dez primeiros bairros da media de preços\n",
    "df_media_dez=df_media.head(10)"
   ]
  },
  {
   "cell_type": "code",
   "execution_count": 14,
   "metadata": {},
   "outputs": [
    {
     "data": {
      "text/plain": [
       "<matplotlib.axes._subplots.AxesSubplot at 0x2730e15eda0>"
      ]
     },
     "execution_count": 14,
     "metadata": {},
     "output_type": "execute_result"
    },
    {
     "data": {
      "image/png": "[encoded data removed]",
      "text/plain": [
       "<matplotlib.figure.Figure at 0x2730dffe668>"
      ]
     },
     "metadata": {},
     "output_type": "display_data"
    },
    {
     "data": {
      "image/png": "[encoded data removed]",
      "text/plain": [
       "<matplotlib.figure.Figure at 0x2730dffed30>"
      ]
     },
     "metadata": {},
     "output_type": "display_data"
    }
   ],
   "source": [
    "#Graficos da soma e media dos dez bairros mais caros, respectivamente\n",
    "df_soma_dez.plot.bar(x=df_soma_dez['bairro'],title='Soma dos Dez Primeiros')\n",
    "\n",
    "df_media_dez.plot.bar(x=df_media_dez['bairro'],title='Media dos Dez Primeiros')"
   ]
  }
 ],
 "metadata": {
  "kernelspec": {
   "display_name": "Python 3",
   "language": "python",
   "name": "python3"
  },
  "language_info": {
   "codemirror_mode": {
    "name": "ipython",
    "version": 3
   },
   "file_extension": ".py",
   "mimetype": "text/x-python",
   "name": "python",
   "nbconvert_exporter": "python",
   "pygments_lexer": "ipython3",
   "version": "3.6.1"
  }
 },
 "nbformat": 4,
 "nbformat_minor": 2
}
