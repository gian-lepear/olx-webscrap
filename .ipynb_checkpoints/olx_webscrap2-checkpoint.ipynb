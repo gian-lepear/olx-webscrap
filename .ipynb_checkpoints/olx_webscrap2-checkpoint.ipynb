{
 "cells": [
  {
   "cell_type": "code",
   "execution_count": 1,
   "metadata": {},
   "outputs": [],
   "source": [
    "from bs4 import BeautifulSoup\n",
    "import pandas as pd\n",
    "import numpy as np\n",
    "import requests\n",
    "import re"
   ]
  },
  {
   "cell_type": "code",
   "execution_count": 3,
   "metadata": {},
   "outputs": [],
   "source": [
    "labels = ['municipio','estado', 'categoria', 'titulo', 'preco', 'href', 'cep']\n",
    "valores = []\n",
    "li_list = []\n",
    "li_list2 = []\n",
    "regx = re.compile('\\d{5}-\\d{3}')"
   ]
  },
  {
   "cell_type": "code",
   "execution_count": 4,
   "metadata": {},
   "outputs": [],
   "source": [
    "def retornaSoupOLX(url, num):\n",
    "    for iter in range(num):\n",
    "        r = requests.get(\"http://sp.olx.com.br/sao-paulo-e-regiao/zona-leste/imoveis?o=\"+str(iter))\n",
    "        soup = BeautifulSoup(r.content, 'html.parser')\n",
    "        return soup"
   ]
  },
  {
   "cell_type": "code",
   "execution_count": 4,
   "metadata": {},
   "outputs": [],
   "source": [
    "def PopulaListaLi(soup, li_list)\n",
    "    for ultag in soup.find_all('ul', {'class': 'list', 'id':'main-ad-list' }):\n",
    "        for litag in ultag.find_all(lambda tag: tag.name == 'li' and tag.get('class') == ['item']):\n",
    "            li_list.append(litag)"
   ]
  },
  {
   "cell_type": "code",
   "execution_count": 5,
   "metadata": {},
   "outputs": [],
   "source": [
    "def tiraEspecialString(string):\n",
    "    return string.text.replace('\\n','').replace('\\t','').replace('R$ ', '').replace('.', '')"
   ]
  },
  {
   "cell_type": "code",
   "execution_count": 5,
   "metadata": {},
   "outputs": [],
   "source": [
    "def tiraEspecialFloat(string):\n",
    "    return string.text.replace('\\n','').replace('\\t','').replace('R$ ', '').replace('.', '').replace(',', '.')"
   ]
  },
  {
   "cell_type": "code",
   "execution_count": 6,
   "metadata": {},
   "outputs": [],
   "source": [
    "def criaListaValores(li_list):\n",
    "    for elements in li_list:\n",
    "        x = BeautifulSoup(str(elements), 'html.parser')\n",
    "        info = x.find('div', {'class':'col-2'})\n",
    "        cidade_estado = tiraEspecial1(info.find('div', {'class':'OLXad-list-line-2'}).find('p', {'class':'text detail-region'}))\n",
    "        categoria = tiraEspecial1(info.find('div', {'class':'OLXad-list-line-2'}).find('p', {'class':'text detail-category'}))\n",
    "        titulo = tiraEspecial1(info.find('div', {'class':'OLXad-list-line-1 mb5px'}).find('h3', {'class':'OLXad-list-title mb5px'}))\n",
    "        preco = x.find('div', {'class':'col-3'})\n",
    "        if preco.find('p', {'class':'OLXad-list-price'}):\n",
    "            preco = tiraEspecial1(x.find('div', {'class':'col-3'}).find('p', {'class':'OLXad-list-price'}))\n",
    "        else:\n",
    "            preco = 0.0\n",
    "        href=x.find('a', {'class':'OLXad-list-link'})\n",
    "        href = href['href'].strip(' \\t\\n\\r')\n",
    "        municipio = cidade_estado.split(',',1)[1].strip(' \\t\\n\\r')\n",
    "        estado = cidade_estado.split(',',1)[0].strip(' \\t\\n\\r'),categoria.strip(' \\t\\n\\r')\n",
    "        titulo = titulo.strip(' \\t\\n\\r')\n",
    "        valores.append([municipio, estado, titulo, preco, href])"
   ]
  },
  {
   "cell_type": "code",
   "execution_count": 8,
   "metadata": {},
   "outputs": [],
   "source": [
    "df = pd.DataFrame(valores, columns=labels)"
   ]
  },
  {
   "cell_type": "code",
   "execution_count": 9,
   "metadata": {},
   "outputs": [],
   "source": [
    "# df.to_excel('teste3.xlsx')"
   ]
  },
  {
   "cell_type": "code",
   "execution_count": 1,
   "metadata": {},
   "outputs": [],
   "source": [
    "def findCEP(url):\n",
    "    r = requests.get(url)\n",
    "    soup = BeautifulSoup(r.content, 'html.parser')\n",
    "    cep = soup.find(lambda tag: tag.name == 'strong' and tag.get('class') == ['description'] and regx.match(tag.text.strip(' \\t\\n\\r')) is not None)\n",
    "    if cep:\n",
    "        return cep.text.strip(' \\t\\n\\r')\n",
    "    else:\n",
    "        return ''"
   ]
  },
  {
   "cell_type": "code",
   "execution_count": null,
   "metadata": {},
   "outputs": [],
   "source": []
  }
 ],
 "metadata": {
  "kernelspec": {
   "display_name": "Python 3",
   "language": "python",
   "name": "python3"
  },
  "language_info": {
   "codemirror_mode": {
    "name": "ipython",
    "version": 3
   },
   "file_extension": ".py",
   "mimetype": "text/x-python",
   "name": "python",
   "nbconvert_exporter": "python",
   "pygments_lexer": "ipython3",
   "version": "3.6.1"
  }
 },
 "nbformat": 4,
 "nbformat_minor": 2
}
