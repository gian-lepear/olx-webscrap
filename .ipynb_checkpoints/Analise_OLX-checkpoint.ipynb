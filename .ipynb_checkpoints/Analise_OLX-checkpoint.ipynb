{
 "cells": [
  {
   "cell_type": "code",
   "execution_count": 128,
   "metadata": {},
   "outputs": [],
   "source": [
    "import pandas as pd\n",
    "import matplotlib.pyplot as plt\n",
    "import re\n",
    "import numpy as np\n",
    "from IPython.core.interactiveshell import InteractiveShell\n",
    "InteractiveShell.ast_node_interactivity = \"all\"\n",
    "%matplotlib inline"
   ]
  },
  {
   "cell_type": "markdown",
   "metadata": {},
   "source": [
    "O que este notebook ira realizar:\n",
    "---------------------------------\n",
    "\n",
    "1. Analise dos resultados dos notebooks anteriores retirados do site da OLX (5000 registros de casas à venda em SP)"
   ]
  },
  {
   "cell_type": "code",
   "execution_count": 3,
   "metadata": {},
   "outputs": [],
   "source": [
    "df = pd.read_excel('lat_lng.xlsx')"
   ]
  },
  {
   "cell_type": "code",
   "execution_count": 4,
   "metadata": {},
   "outputs": [],
   "source": [
    "df = df[['municipio', 'categoria', 'preco']]"
   ]
  },
  {
   "cell_type": "code",
   "execution_count": 5,
   "metadata": {},
   "outputs": [],
   "source": [
    "df['categoria'] = df.categoria.astype('category')"
   ]
  },
  {
   "cell_type": "code",
   "execution_count": 6,
   "metadata": {},
   "outputs": [],
   "source": [
    "df['categoria'] = df['categoria'].str.replace('- Anúncio Profissional', '- Profissional')\n",
    "df['categoria'] = df['categoria'].str.replace('Profissional', '- Profissional')"
   ]
  },
  {
   "cell_type": "code",
   "execution_count": 7,
   "metadata": {},
   "outputs": [],
   "source": [
    "df['categoria'], df['profissional'] = df['categoria'].str.split('-', 1).str"
   ]
  },
  {
   "cell_type": "code",
   "execution_count": 8,
   "metadata": {},
   "outputs": [
    {
     "data": {
      "text/plain": [
       "categoria\n",
       "Aluguel de quartos               68\n",
       "Apartamentos                   2462\n",
       "Casas                          1477\n",
       "Indústria e comércio            743\n",
       "Lançamentos                       6\n",
       "Temporada                        36\n",
       "Terrenos, sítios e fazendas     208\n",
       "Name: preco, dtype: int64"
      ]
     },
     "execution_count": 8,
     "metadata": {},
     "output_type": "execute_result"
    }
   ],
   "source": [
    "df.groupby(['categoria'])['preco'].count()"
   ]
  },
  {
   "cell_type": "code",
   "execution_count": 9,
   "metadata": {},
   "outputs": [
    {
     "data": {
      "text/plain": [
       "array(['Apartamentos', 'Casas', 'Indústria e comércio', 'Temporada',\n",
       "       'Terrenos, sítios e fazendas', 'Aluguel de quartos', 'Lançamentos'], dtype=object)"
      ]
     },
     "execution_count": 9,
     "metadata": {},
     "output_type": "execute_result"
    }
   ],
   "source": [
    "df.categoria.unique()"
   ]
  },
  {
   "cell_type": "code",
   "execution_count": 10,
   "metadata": {},
   "outputs": [],
   "source": [
    "df['profissional']=df.profissional.replace('- Profissional', 'S')"
   ]
  },
  {
   "cell_type": "code",
   "execution_count": 11,
   "metadata": {},
   "outputs": [],
   "source": [
    "df['profissional']=df.profissional.fillna('N')"
   ]
  },
  {
   "cell_type": "code",
   "execution_count": 12,
   "metadata": {},
   "outputs": [
    {
     "data": {
      "text/html": [
       "<div>\n",
       "<style>\n",
       "    .dataframe thead tr:only-child th {\n",
       "        text-align: right;\n",
       "    }\n",
       "\n",
       "    .dataframe thead th {\n",
       "        text-align: left;\n",
       "    }\n",
       "\n",
       "    .dataframe tbody tr th {\n",
       "        vertical-align: top;\n",
       "    }\n",
       "</style>\n",
       "<table border=\"1\" class=\"dataframe\">\n",
       "  <thead>\n",
       "    <tr style=\"text-align: right;\">\n",
       "      <th></th>\n",
       "      <th>municipio</th>\n",
       "      <th>categoria</th>\n",
       "      <th>preco</th>\n",
       "      <th>profissional</th>\n",
       "    </tr>\n",
       "  </thead>\n",
       "  <tbody>\n",
       "    <tr>\n",
       "      <th>0</th>\n",
       "      <td>Belenzinho</td>\n",
       "      <td>Apartamentos</td>\n",
       "      <td>660000</td>\n",
       "      <td>N</td>\n",
       "    </tr>\n",
       "    <tr>\n",
       "      <th>1</th>\n",
       "      <td>Belenzinho</td>\n",
       "      <td>Apartamentos</td>\n",
       "      <td>850000</td>\n",
       "      <td>N</td>\n",
       "    </tr>\n",
       "    <tr>\n",
       "      <th>2</th>\n",
       "      <td>Mooca</td>\n",
       "      <td>Apartamentos</td>\n",
       "      <td>2000</td>\n",
       "      <td>N</td>\n",
       "    </tr>\n",
       "    <tr>\n",
       "      <th>3</th>\n",
       "      <td>Vila Bertioga</td>\n",
       "      <td>Casas</td>\n",
       "      <td>4000</td>\n",
       "      <td>N</td>\n",
       "    </tr>\n",
       "    <tr>\n",
       "      <th>4</th>\n",
       "      <td>Vila Independência</td>\n",
       "      <td>Indústria e comércio</td>\n",
       "      <td>35000</td>\n",
       "      <td>N</td>\n",
       "    </tr>\n",
       "    <tr>\n",
       "      <th>5</th>\n",
       "      <td>Mooca</td>\n",
       "      <td>Casas</td>\n",
       "      <td>1300</td>\n",
       "      <td>- Profissional</td>\n",
       "    </tr>\n",
       "    <tr>\n",
       "      <th>6</th>\n",
       "      <td>Vila Formosa</td>\n",
       "      <td>Apartamentos</td>\n",
       "      <td>400000</td>\n",
       "      <td>- Profissional</td>\n",
       "    </tr>\n",
       "    <tr>\n",
       "      <th>7</th>\n",
       "      <td>Alto da Mooca</td>\n",
       "      <td>Indústria e comércio</td>\n",
       "      <td>18000</td>\n",
       "      <td>N</td>\n",
       "    </tr>\n",
       "    <tr>\n",
       "      <th>8</th>\n",
       "      <td>Mooca</td>\n",
       "      <td>Apartamentos</td>\n",
       "      <td>899000</td>\n",
       "      <td>- Profissional</td>\n",
       "    </tr>\n",
       "    <tr>\n",
       "      <th>9</th>\n",
       "      <td>Vila Carrão</td>\n",
       "      <td>Indústria e comércio</td>\n",
       "      <td>284000</td>\n",
       "      <td>- Profissional</td>\n",
       "    </tr>\n",
       "    <tr>\n",
       "      <th>10</th>\n",
       "      <td>Parque Santa Amélia</td>\n",
       "      <td>Casas</td>\n",
       "      <td>280000</td>\n",
       "      <td>N</td>\n",
       "    </tr>\n",
       "    <tr>\n",
       "      <th>11</th>\n",
       "      <td>C A E Carvalho</td>\n",
       "      <td>Casas</td>\n",
       "      <td>323000</td>\n",
       "      <td>N</td>\n",
       "    </tr>\n",
       "    <tr>\n",
       "      <th>12</th>\n",
       "      <td>Alto da Mooca</td>\n",
       "      <td>Casas</td>\n",
       "      <td>900</td>\n",
       "      <td>N</td>\n",
       "    </tr>\n",
       "    <tr>\n",
       "      <th>13</th>\n",
       "      <td>Mooca</td>\n",
       "      <td>Apartamentos</td>\n",
       "      <td>665000</td>\n",
       "      <td>- Profissional</td>\n",
       "    </tr>\n",
       "    <tr>\n",
       "      <th>14</th>\n",
       "      <td>Jardim Rodolfo Pirani</td>\n",
       "      <td>Casas</td>\n",
       "      <td>0</td>\n",
       "      <td>N</td>\n",
       "    </tr>\n",
       "  </tbody>\n",
       "</table>\n",
       "</div>"
      ],
      "text/plain": [
       "                municipio             categoria   preco     profissional\n",
       "0              Belenzinho          Apartamentos  660000                N\n",
       "1              Belenzinho          Apartamentos  850000                N\n",
       "2                   Mooca          Apartamentos    2000                N\n",
       "3           Vila Bertioga                 Casas    4000                N\n",
       "4      Vila Independência  Indústria e comércio   35000                N\n",
       "5                   Mooca                 Casas    1300   - Profissional\n",
       "6            Vila Formosa          Apartamentos  400000   - Profissional\n",
       "7           Alto da Mooca  Indústria e comércio   18000                N\n",
       "8                   Mooca          Apartamentos  899000   - Profissional\n",
       "9             Vila Carrão  Indústria e comércio  284000   - Profissional\n",
       "10    Parque Santa Amélia                 Casas  280000                N\n",
       "11         C A E Carvalho                 Casas  323000                N\n",
       "12          Alto da Mooca                 Casas     900                N\n",
       "13                  Mooca          Apartamentos  665000   - Profissional\n",
       "14  Jardim Rodolfo Pirani                 Casas       0                N"
      ]
     },
     "execution_count": 12,
     "metadata": {},
     "output_type": "execute_result"
    }
   ],
   "source": [
    "df.head(15)"
   ]
  },
  {
   "cell_type": "code",
   "execution_count": 13,
   "metadata": {},
   "outputs": [],
   "source": [
    "df_casa = df[df['categoria'] == 'Casas']\n",
    "\n",
    "df_casa = df_casa.reset_index()\n",
    "\n",
    "df_casa = df_casa[['municipio', 'preco']]"
   ]
  },
  {
   "cell_type": "code",
   "execution_count": 58,
   "metadata": {},
   "outputs": [],
   "source": [
    "#cria um data frame com a soma dos precos dos municipios\n",
    "df_soma = df_casa.groupby(['municipio'], as_index=False)['preco'].sum()\n",
    "df_soma = df_soma.sort_values(by='preco',ascending=False)\n",
    "df_soma = df_soma.reset_index(drop='index')"
   ]
  },
  {
   "cell_type": "code",
   "execution_count": 59,
   "metadata": {},
   "outputs": [],
   "source": [
    "df_media = df_casa.groupby(['municipio'], as_index=False)['preco'].mean()\n",
    "df_media = df_media.sort_values(by='preco',ascending=False)\n",
    "df_media = df_media.reset_index(drop='index')"
   ]
  },
  {
   "cell_type": "code",
   "execution_count": 60,
   "metadata": {},
   "outputs": [],
   "source": [
    "df_soma_dez=df_soma.head(10)"
   ]
  },
  {
   "cell_type": "code",
   "execution_count": 61,
   "metadata": {},
   "outputs": [],
   "source": [
    "df_media_dez=df_media.head(10)"
   ]
  },
  {
   "cell_type": "code",
   "execution_count": 138,
   "metadata": {},
   "outputs": [
    {
     "data": {
      "text/plain": [
       "<matplotlib.axes._subplots.AxesSubplot at 0x1cbd8273940>"
      ]
     },
     "execution_count": 138,
     "metadata": {},
     "output_type": "execute_result"
    },
    {
     "data": {
      "text/plain": [
       "<matplotlib.axes._subplots.AxesSubplot at 0x1cbd7ee54a8>"
      ]
     },
     "execution_count": 138,
     "metadata": {},
     "output_type": "execute_result"
    },
    {
     "data": {
      "image/png": "[encoded data removed]",
      "text/plain": [
       "<matplotlib.figure.Figure at 0x1cbd96f92e8>"
      ]
     },
     "metadata": {},
     "output_type": "display_data"
    },
    {
     "data": {
      "image/png": "[encoded data removed]",
      "text/plain": [
       "<matplotlib.figure.Figure at 0x1cbd9846f98>"
      ]
     },
     "metadata": {},
     "output_type": "display_data"
    }
   ],
   "source": [
    "df_soma_dez.plot.bar(x=df_soma_dez['municipio'],title='Soma dos Dez Primeiros', yticks=np.linspace(0,float(\"1.5e8\"), num=6))\n",
    "df_media_dez.plot.bar(x=df_media_dez['municipio'],title='Media dos Dez Primeiros', yticks=np.linspace(0,float(\"2e7\"), num=5))"
   ]
  },
  {
   "cell_type": "code",
   "execution_count": 86,
   "metadata": {},
   "outputs": [],
   "source": []
  },
  {
   "cell_type": "code",
   "execution_count": null,
   "metadata": {},
   "outputs": [],
   "source": []
  },
  {
   "cell_type": "code",
   "execution_count": null,
   "metadata": {},
   "outputs": [],
   "source": []
  }
 ],
 "metadata": {
  "kernelspec": {
   "display_name": "Python 3",
   "language": "python",
   "name": "python3"
  },
  "language_info": {
   "codemirror_mode": {
    "name": "ipython",
    "version": 3
   },
   "file_extension": ".py",
   "mimetype": "text/x-python",
   "name": "python",
   "nbconvert_exporter": "python",
   "pygments_lexer": "ipython3",
   "version": "3.6.1"
  }
 },
 "nbformat": 4,
 "nbformat_minor": 2
}
