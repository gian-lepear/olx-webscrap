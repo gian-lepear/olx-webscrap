{
 "cells": [
  {
   "cell_type": "code",
   "execution_count": 8,
   "metadata": {},
   "outputs": [],
   "source": [
    "import requests\n",
    "from bs4 import BeautifulSoup\n",
    "\n",
    "\n",
    "\n",
    "url = 'http://www.buscacep.correios.com.br/sistemas/buscacep/resultadoBuscaCepEndereco.cfm'\n",
    "\n",
    "form_data = {\n",
    "    'relaxation':'03121-020',\n",
    "    'tipoCEP':'ALL',\n",
    "    'semelhante':'N'\n",
    "}\n",
    "\n",
    "response = requests.post(url, data=form_data)\n",
    "\n",
    "soup = BeautifulSoup(response.content, 'html.parser')"
   ]
  },
  {
   "cell_type": "code",
   "execution_count": 9,
   "metadata": {},
   "outputs": [
    {
     "data": {
      "text/plain": [
       "<div class=\"ctrlcontent\"> <script language=\"JavaScript\" type=\"text/javascript\">\n",
       "function detalhaCep(CEP)\n",
       "{   \n",
       "document.Geral.CEP.value = CEP;\n",
       "document.Geral.action='sistemas/buscacep/detalhaCEP.cfm';\n",
       "document.Geral.submit();\n",
       "}\n",
       "</script> <p>DADOS ENCONTRADOS COM SUCESSO.</p> <div style=\"float:left\">\n",
       "\n",
       "[ Anterior ]\n",
       "\t\t\n",
       "</div> <div style=\"float:left\">\t\t\t\t\n",
       "\n",
       "[ Próxima ]\n",
       "\n",
       "</div> <div style=\"float:left\"> <a href=\"sistemas/buscacep/BuscaCepEndereco.cfm\">[ Nova Consulta ]</a> </div>\t\n",
       "  1 a 1 de 1\n",
       "<br/><br/> <form action=\"/sistemas/buscacep/resultadoBuscaCepEndereco.cfm\" id=\"Geral\" method=\"post\" name=\"Geral\" onsubmit=\"return _CF_checkGeral(this)\"> <input name=\"CEP\" type=\"hidden\" value=\"\"/> </form>\n",
       "<table class=\"tmptabela\"> <tr> <th width=\"150\">Logradouro/Nome:</th> <th width=\"90\">Bairro/Distrito:</th> <th width=\"80\">Localidade/UF:</th> <th width=\"50\">CEP:</th> </tr> <tr> <td width=\"150\">Rua Camé </td> <td width=\"90\">Mooca </td> <td width=\"80\">São Paulo/SP</td> <td width=\"55\">03121-020</td> </tr> </table> <div style=\"float:left\">  \n",
       "\n",
       "[ Anterior ]\n",
       "\t\n",
       "</div> <div style=\"float:left\">\t\t\t\t\t\n",
       "\n",
       "[ Próxima ]\n",
       "\n",
       "</div> <div style=\"float:left\"> <a href=\"sistemas/buscacep/BuscaCepEndereco.cfm\">[ Nova Consulta ]</a> </div> </div>"
      ]
     },
     "execution_count": 9,
     "metadata": {},
     "output_type": "execute_result"
    }
   ],
   "source": [
    "soup.find('div', {'class': 'ctrlcontent'})"
   ]
  },
  {
   "cell_type": "code",
   "execution_count": null,
   "metadata": {},
   "outputs": [],
   "source": []
  }
 ],
 "metadata": {
  "kernelspec": {
   "display_name": "Python 3",
   "language": "python",
   "name": "python3"
  },
  "language_info": {
   "codemirror_mode": {
    "name": "ipython",
    "version": 3
   },
   "file_extension": ".py",
   "mimetype": "text/x-python",
   "name": "python",
   "nbconvert_exporter": "python",
   "pygments_lexer": "ipython3",
   "version": "3.6.1"
  }
 },
 "nbformat": 4,
 "nbformat_minor": 2
}
