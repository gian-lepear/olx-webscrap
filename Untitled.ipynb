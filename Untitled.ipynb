{
 "cells": [
  {
   "cell_type": "code",
   "execution_count": 1,
   "metadata": {},
   "outputs": [],
   "source": [
    "import pandas as pd\n",
    "import numpy as np"
   ]
  },
  {
   "cell_type": "code",
   "execution_count": 4,
   "metadata": {},
   "outputs": [],
   "source": [
    "import plotly as py\n",
    "import plotly.graph_objs as go\n",
    "py.tools.set_credentials_file(username='gian.lepear', api_key='zXql2DKxn9tq4DwoqwRt')"
   ]
  },
  {
   "cell_type": "code",
   "execution_count": 5,
   "metadata": {},
   "outputs": [],
   "source": [
    "df = pd.read_excel('lat_lng.xlsx')"
   ]
  },
  {
   "cell_type": "code",
   "execution_count": 6,
   "metadata": {},
   "outputs": [],
   "source": [
    "df['categoria'] = df.categoria.astype('category')\n",
    "df['categoria'] = df['categoria'].str.replace('- Anúncio Profissional', '- Profissional')\n",
    "df['categoria'] = df['categoria'].str.replace('Profissional', '- Profissional')\n",
    "df['categoria'], df['profissional'] = df['categoria'].str.split('-', 1).str\n",
    "df['profissional']=df.profissional.replace(' - Profissional', 'S')\n",
    "df['profissional']=df.profissional.fillna('N')"
   ]
  },
  {
   "cell_type": "code",
   "execution_count": 7,
   "metadata": {},
   "outputs": [],
   "source": [
    "df.to_excel('lat_lng_Final.xlsx')"
   ]
  },
  {
   "cell_type": "code",
   "execution_count": 8,
   "metadata": {},
   "outputs": [
    {
     "data": {
      "text/plain": [
       "categoria\n",
       "Aluguel de quartos               68\n",
       "Apartamentos                   2462\n",
       "Casas                          1477\n",
       "Indústria e comércio            743\n",
       "Lançamentos                       6\n",
       "Temporada                        36\n",
       "Terrenos, sítios e fazendas     208\n",
       "Name: preco, dtype: int64"
      ]
     },
     "execution_count": 8,
     "metadata": {},
     "output_type": "execute_result"
    }
   ],
   "source": [
    "df = df[['municipio', 'categoria', 'preco']]\n",
    "df.groupby(['categoria'])['preco'].count()"
   ]
  },
  {
   "cell_type": "code",
   "execution_count": 9,
   "metadata": {},
   "outputs": [],
   "source": [
    "df_casa = df[df['categoria'] == 'Casas']\n",
    "df_casa = df_casa.reset_index()\n",
    "df_casa = df_casa[['municipio', 'preco']]"
   ]
  },
  {
   "cell_type": "code",
   "execution_count": 10,
   "metadata": {},
   "outputs": [],
   "source": [
    "#cria um data frame com a soma dos precos dos municipios\n",
    "df_soma = df_casa.groupby(['municipio'], as_index=False)['preco'].sum()\n",
    "df_soma = df_soma.sort_values(by='preco',ascending=False)\n",
    "df_soma = df_soma.reset_index(drop='index')"
   ]
  },
  {
   "cell_type": "code",
   "execution_count": 11,
   "metadata": {},
   "outputs": [],
   "source": [
    "data = [\n",
    "    go.Bar(\n",
    "        x=df_soma['municipio'], # assign x as the dataframe column 'x'\n",
    "        y=df_soma['preco']\n",
    "    )\n",
    "]"
   ]
  },
  {
   "cell_type": "code",
   "execution_count": 88,
   "metadata": {},
   "outputs": [
    {
     "data": {
      "text/html": [
       "<iframe id=\"igraph\" scrolling=\"no\" style=\"border:none;\" seamless=\"seamless\" src=\"https://plot.ly/~gian.lepear/2.embed\" height=\"525px\" width=\"100%\"></iframe>"
      ],
      "text/plain": [
       "<plotly.tools.PlotlyDisplay object>"
      ]
     },
     "execution_count": 88,
     "metadata": {},
     "output_type": "execute_result"
    }
   ],
   "source": [
    "# IPython notebook\n",
    "py.iplot(data, filename='OLX_SP_CASAS_SOMA_x_BAIRRO', title='SP-CASAS À VENDA SOMA x BAIRRO')"
   ]
  },
  {
   "cell_type": "code",
   "execution_count": 12,
   "metadata": {},
   "outputs": [],
   "source": [
    "df_casa_count = df_casa.groupby(['municipio'],as_index=False)['preco'].count().sort_values(by='preco',ascending=False)"
   ]
  },
  {
   "cell_type": "code",
   "execution_count": 13,
   "metadata": {},
   "outputs": [],
   "source": [
    "df_casa_count.columns = ['municipio', 'count']"
   ]
  },
  {
   "cell_type": "code",
   "execution_count": 14,
   "metadata": {},
   "outputs": [],
   "source": [
    "df_casa_merge = df_soma.merge(df_casa_count, on='municipio')"
   ]
  },
  {
   "cell_type": "code",
   "execution_count": 15,
   "metadata": {},
   "outputs": [],
   "source": [
    "#cria um data frame com a soma dos precos dos municipios\n",
    "df_media = df_casa.groupby(['municipio'], as_index=False)['preco'].mean()\n",
    "df_media = df_media.sort_values(by='preco',ascending=False)\n",
    "df_media = df_media.reset_index(drop='index')"
   ]
  },
  {
   "cell_type": "code",
   "execution_count": 16,
   "metadata": {},
   "outputs": [],
   "source": [
    "df_casa_merge = df_casa_merge.merge(df_media, on='municipio')"
   ]
  },
  {
   "cell_type": "code",
   "execution_count": 17,
   "metadata": {},
   "outputs": [],
   "source": [
    "df_casa_merge.columns = ['municipio','preco_soma','count','preco_media']"
   ]
  },
  {
   "cell_type": "code",
   "execution_count": 24,
   "metadata": {},
   "outputs": [
    {
     "data": {
      "text/plain": [
       "municipio      111\n",
       "preco_soma     111\n",
       "count          111\n",
       "preco_media    111\n",
       "dtype: int64"
      ]
     },
     "execution_count": 24,
     "metadata": {},
     "output_type": "execute_result"
    }
   ],
   "source": [
    "df_casa_merge[df_casa_merge['count'] == 1].count()"
   ]
  },
  {
   "cell_type": "code",
   "execution_count": 33,
   "metadata": {},
   "outputs": [
    {
     "data": {
      "text/plain": [
       "municipio      276\n",
       "preco_soma     276\n",
       "count          276\n",
       "preco_media    276\n",
       "dtype: int64"
      ]
     },
     "execution_count": 33,
     "metadata": {},
     "output_type": "execute_result"
    }
   ],
   "source": [
    "df_casa_merge[df_casa_merge['count'] < 10].count()"
   ]
  },
  {
   "cell_type": "code",
   "execution_count": 35,
   "metadata": {},
   "outputs": [],
   "source": [
    "df_casa_merge.to_excel('Bairro_Soma_Count_PrecoMedia.xlsx')"
   ]
  },
  {
   "cell_type": "code",
   "execution_count": null,
   "metadata": {},
   "outputs": [],
   "source": []
  }
 ],
 "metadata": {
  "kernelspec": {
   "display_name": "Python 3",
   "language": "python",
   "name": "python3"
  },
  "language_info": {
   "codemirror_mode": {
    "name": "ipython",
    "version": 3
   },
   "file_extension": ".py",
   "mimetype": "text/x-python",
   "name": "python",
   "nbconvert_exporter": "python",
   "pygments_lexer": "ipython3",
   "version": "3.6.1"
  }
 },
 "nbformat": 4,
 "nbformat_minor": 2
}
