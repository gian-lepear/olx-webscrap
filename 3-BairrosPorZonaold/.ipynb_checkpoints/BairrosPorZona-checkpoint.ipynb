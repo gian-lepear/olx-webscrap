{
 "cells": [
  {
   "cell_type": "code",
   "execution_count": 1,
   "metadata": {},
   "outputs": [],
   "source": [
    "import requests\n",
    "import pandas as pd\n",
    "from bs4 import BeautifulSoup"
   ]
  },
  {
   "cell_type": "code",
   "execution_count": 2,
   "metadata": {},
   "outputs": [],
   "source": [
    "url_oeste = 'https://noticias.bol.uol.com.br/brasil/2012/10/07/confira-todos-os-distritos-e-bairros-da-zona-oeste-de-sp.jhtm'\n",
    "url_sul = 'https://noticias.bol.uol.com.br/brasil/2012/10/07/confira-todos-os-distritos-e-bairros-da-zona-sul-de-sp.jhtm'\n",
    "url_leste = 'https://noticias.bol.uol.com.br/brasil/2012/10/07/veja-todos-os-distritos-e-bairros-da-zona-leste-de-sp.jhtm'\n",
    "url_norte = 'http://m.folha.uol.com.br/cotidiano/2012/10/1164607-confira-todos-os-distritos-e-bairros-da-zona-norte-de-sp.shtml?mobile'\n",
    "url_centro ='https://noticias.bol.uol.com.br/brasil/2012/10/07/conheca-todos-os-distritos-e-bairros-da-regiao-central-de-sp.jhtm'"
   ]
  },
  {
   "cell_type": "code",
   "execution_count": 13,
   "metadata": {},
   "outputs": [],
   "source": [
    "oeste = 'ZONA OESTE'\n",
    "\n",
    "norte = 'ZONA NORTE'\n",
    "\n",
    "sul1 = 'ZONA SUL 1'\n",
    "sul2 = 'ZONA SUL 2'\n",
    "\n",
    "leste1 = 'ZONA LESTE 1'\n",
    "leste2 = 'ZONA LESTE 2'\n",
    "\n",
    "centro = 'CENTRO'"
   ]
  },
  {
   "cell_type": "markdown",
   "metadata": {},
   "source": [
    "df_norte = pd.read_html(url_norte, match='ZONA NORTE')\n",
    "\n",
    "df_norte = df_norte[0]\n",
    "\n",
    "reg = '([A-ZÁÀÂÃÉÈÍÏÓÔÕÖÚÇÑ]{3,100})\\w'\n",
    "\n",
    "df_norte.columns = ['bairro']\n",
    "\n",
    "filter = df_norte['bairro'].str.contains(reg)\n",
    "\n",
    "df_norte = df_norte[~filter]\n",
    "\n",
    "df_norte.columns = ['bairro']\n",
    "\n",
    "df_norte.reset_index(drop=True, inplace=True)\n",
    "\n",
    "df_norte.count()\n",
    "\n",
    "df_norte.reset_index(drop=True, inplace=True)\n",
    "\n",
    "df_norte['zona'] = 'norte'"
   ]
  },
  {
   "cell_type": "code",
   "execution_count": 35,
   "metadata": {},
   "outputs": [],
   "source": [
    "def retornaDFZona(url, zona):\n",
    "    #Este regex encontra palavras escritas em maiusculas com acentos\n",
    "    regx ='([A-ZÁÀÂÃÉÈÍÏÓÔÕÖÚÇÑ]{3,100})\\w'\n",
    "    df = pd.read_html(url, match=zona)\n",
    "    df= df[0]\n",
    "    df.columns = ['bairro']\n",
    "    #dentro das tabelas pesquisadas existem registros onde se tem 'ZONA+LOCAL', ex: ZONA NORTE este filtro encontrará esses casos\n",
    "    filter = df['bairro'].str.contains(reg)\n",
    "    #selecionar apenas os casos onde o filtro seja 'False'\n",
    "    df = df[~filter]\n",
    "    #Após o passo anterior o index do DataFrame esta desorganizado, é necessario o reset\n",
    "    df.reset_index(drop=True, inplace=True)\n",
    "    #Adiciona uma coluna 'zona' com o valor da zona do bairro\n",
    "    df['zona'] = zona\n",
    "    #retorna o DataFrame\n",
    "    return df"
   ]
  },
  {
   "cell_type": "code",
   "execution_count": 38,
   "metadata": {},
   "outputs": [
    {
     "name": "stderr",
     "output_type": "stream",
     "text": [
      "C:\\ProgramData\\Anaconda3\\lib\\site-packages\\ipykernel_launcher.py:8: UserWarning: This pattern has match groups. To actually get the groups, use str.extract.\n",
      "  \n"
     ]
    },
    {
     "name": "stdout",
     "output_type": "stream",
     "text": [
      "Wall time: 9.25 s\n"
     ]
    }
   ],
   "source": [
    "%%time\n",
    "df_norte = retornaDFZona(url_norte, norte)\n",
    "\n",
    "df_sul1 = retornaDFZona(url_sul, sul1)\n",
    "df_sul2 = retornaDFZona(url_sul, sul2)\n",
    "\n",
    "\n",
    "df_leste1 = retornaDFZona(url_leste, leste1)\n",
    "df_leste2 = retornaDFZona(url_leste, leste2)\n",
    "\n",
    "df_oeste = retornaDFZona(url_oeste, oeste)\n",
    "\n",
    "df_centro = retornaDFZona(url_centro, centro)"
   ]
  },
  {
   "cell_type": "code",
   "execution_count": null,
   "metadata": {},
   "outputs": [],
   "source": [
    "zonas = [df_leste1, df_leste2 ,df_centro, df_norte, df_sul1, df_sul2, df_oeste]"
   ]
  },
  {
   "cell_type": "code",
   "execution_count": null,
   "metadata": {},
   "outputs": [],
   "source": []
  },
  {
   "cell_type": "code",
   "execution_count": null,
   "metadata": {},
   "outputs": [],
   "source": []
  }
 ],
 "metadata": {
  "kernelspec": {
   "display_name": "Python 3",
   "language": "python",
   "name": "python3"
  },
  "language_info": {
   "codemirror_mode": {
    "name": "ipython",
    "version": 3
   },
   "file_extension": ".py",
   "mimetype": "text/x-python",
   "name": "python",
   "nbconvert_exporter": "python",
   "pygments_lexer": "ipython3",
   "version": "3.6.1"
  }
 },
 "nbformat": 4,
 "nbformat_minor": 2
}
