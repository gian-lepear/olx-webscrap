{
 "cells": [
  {
   "cell_type": "code",
   "execution_count": 1,
   "metadata": {},
   "outputs": [],
   "source": [
    "import pandas as pd\n",
    "import matplotlib.pyplot as plt"
   ]
  },
  {
   "cell_type": "code",
   "execution_count": 2,
   "metadata": {},
   "outputs": [],
   "source": [
    "df = pd.read_excel('lat_lng.xlsx')"
   ]
  },
  {
   "cell_type": "code",
   "execution_count": 10,
   "metadata": {},
   "outputs": [],
   "source": [
    "df = df[['municipio', 'categoria', 'preco']]"
   ]
  },
  {
   "cell_type": "code",
   "execution_count": 17,
   "metadata": {},
   "outputs": [],
   "source": [
    "df['categoria'] = df.categoria.astype('category')"
   ]
  },
  {
   "cell_type": "code",
   "execution_count": 36,
   "metadata": {},
   "outputs": [
    {
     "data": {
      "text/plain": [
       "categoria\n",
       "Aluguel de quartos                                       24858\n",
       "Aluguel de quartos- Anúncio Profissional                  1397\n",
       "Aluguel de quartosProfissional                             420\n",
       "Apartamentos                                         324687965\n",
       "Apartamentos- Anúncio Profissional                   770933083\n",
       "ApartamentosProfissional                              71683868\n",
       "Casas                                                184461937\n",
       "Casas- Anúncio Profissional                          504149320\n",
       "CasasProfissional                                     41809700\n",
       "Indústria e comércio                                  44492722\n",
       "Indústria e comércio- Anúncio Profissional           326909795\n",
       "Indústria e comércioProfissional                      72265760\n",
       "Lançamentos                                             156000\n",
       "Lançamentos- Anúncio Profissional                       610696\n",
       "LançamentosProfissional                                 225000\n",
       "Temporada                                                 9364\n",
       "Temporada- Anúncio Profissional                            380\n",
       "Terrenos, sítios e fazendas                           32024110\n",
       "Terrenos, sítios e fazendas- Anúncio Profissional    111364520\n",
       "Terrenos, sítios e fazendasProfissional                1785000\n",
       "Name: preco, dtype: int64"
      ]
     },
     "execution_count": 36,
     "metadata": {},
     "output_type": "execute_result"
    }
   ],
   "source": [
    "df.groupby(['categoria'])['preco'].sum()"
   ]
  },
  {
   "cell_type": "code",
   "execution_count": null,
   "metadata": {},
   "outputs": [],
   "source": []
  }
 ],
 "metadata": {
  "kernelspec": {
   "display_name": "Python 3",
   "language": "python",
   "name": "python3"
  },
  "language_info": {
   "codemirror_mode": {
    "name": "ipython",
    "version": 3
   },
   "file_extension": ".py",
   "mimetype": "text/x-python",
   "name": "python",
   "nbconvert_exporter": "python",
   "pygments_lexer": "ipython3",
   "version": "3.6.1"
  }
 },
 "nbformat": 4,
 "nbformat_minor": 2
}
