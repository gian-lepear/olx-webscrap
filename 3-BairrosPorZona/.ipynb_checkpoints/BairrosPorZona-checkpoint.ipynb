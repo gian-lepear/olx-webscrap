{
 "cells": [
  {
   "cell_type": "code",
   "execution_count": 1,
   "metadata": {},
   "outputs": [],
   "source": [
    "import requests\n",
    "import pandas as pd\n",
    "from bs4 import BeautifulSoup"
   ]
  },
  {
   "cell_type": "code",
   "execution_count": 2,
   "metadata": {},
   "outputs": [],
   "source": [
    "url_oeste = 'https://noticias.bol.uol.com.br/brasil/2012/10/07/confira-todos-os-distritos-e-bairros-da-zona-oeste-de-sp.jhtm'\n",
    "url_sul = 'https://noticias.bol.uol.com.br/brasil/2012/10/07/confira-todos-os-distritos-e-bairros-da-zona-sul-de-sp.jhtm'\n",
    "url_leste = 'https://noticias.bol.uol.com.br/brasil/2012/10/07/veja-todos-os-distritos-e-bairros-da-zona-leste-de-sp.jhtm'\n",
    "url_norte = 'http://m.folha.uol.com.br/cotidiano/2012/10/1164607-confira-todos-os-distritos-e-bairros-da-zona-norte-de-sp.shtml?mobile'\n",
    "url_centro ='https://noticias.bol.uol.com.br/brasil/2012/10/07/conheca-todos-os-distritos-e-bairros-da-regiao-central-de-sp.jhtm'"
   ]
  },
  {
   "cell_type": "code",
   "execution_count": 3,
   "metadata": {},
   "outputs": [],
   "source": [
    "oeste = 'ZONA OESTE'\n",
    "\n",
    "norte = 'ZONA NORTE'\n",
    "\n",
    "sul1 = 'ZONA SUL 1'\n",
    "sul2 = 'ZONA SUL 2'\n",
    "\n",
    "leste1 = 'ZONA LESTE 1'\n",
    "leste2 = 'ZONA LESTE 2'\n",
    "\n",
    "centro = 'CENTRO'"
   ]
  },
  {
   "cell_type": "code",
   "execution_count": 4,
   "metadata": {},
   "outputs": [],
   "source": [
    "def retornaDFZona(url, zona):\n",
    "    df = pd.read_html(url, match=zona)\n",
    "    df= df[0]\n",
    "    df.columns = ['bairro']\n",
    "    #Adiciona uma coluna 'zona' com o valor da zona do bairro\n",
    "    df['zona'] = zona\n",
    "    #retorna o DataFrame\n",
    "    return df"
   ]
  },
  {
   "cell_type": "code",
   "execution_count": 5,
   "metadata": {},
   "outputs": [
    {
     "name": "stdout",
     "output_type": "stream",
     "text": [
      "Wall time: 10.1 s\n"
     ]
    }
   ],
   "source": [
    "%%time\n",
    "df_norte = retornaDFZona(url_norte, norte)\n",
    "\n",
    "df_sul1 = retornaDFZona(url_sul, sul1)\n",
    "df_sul2 = retornaDFZona(url_sul, sul2)\n",
    "\n",
    "\n",
    "df_leste1 = retornaDFZona(url_leste, leste1)\n",
    "df_leste2 = retornaDFZona(url_leste, leste2)\n",
    "\n",
    "df_oeste = retornaDFZona(url_oeste, oeste)\n",
    "\n",
    "df_centro = retornaDFZona(url_centro, centro)"
   ]
  },
  {
   "cell_type": "code",
   "execution_count": 6,
   "metadata": {},
   "outputs": [],
   "source": [
    "#Cria uma lista com os DataFrames de cada zona\n",
    "zonas = [df_norte, df_sul1, df_sul2, df_leste1, df_leste2 , df_oeste, df_centro]\n",
    "\n",
    "#Concatena os DataFrames da lista\n",
    "df_zonas = pd.concat(zonas)\n",
    "\n",
    "#remove do dataframe os registros onde há o nome da zona, ex: 'ZONA OESTE'\n",
    "df_zonas = df_zonas[df_zonas.bairro.str.find('ZONA') == -1]\n",
    "\n",
    "#remove os registros duplicados\n",
    "df_zonas = df_zonas[~df_zonas.duplicated()]\n",
    "\n",
    "#Reseta o index do DataFrame\n",
    "df_zonas.reset_index(drop=True, inplace=True)"
   ]
  },
  {
   "cell_type": "code",
   "execution_count": 7,
   "metadata": {},
   "outputs": [
    {
     "data": {
      "text/plain": [
       "array(['Norte', 'Sul', 'Leste', 'Oeste', 'Centro'], dtype=object)"
      ]
     },
     "execution_count": 7,
     "metadata": {},
     "output_type": "execute_result"
    }
   ],
   "source": [
    "df_zonas['zona'] = df_zonas['zona'].str.replace('ZONA ', '')\n",
    "df_zonas['zona'] = df_zonas['zona'].str.replace(' 1', '')\n",
    "df_zonas['zona'] = df_zonas['zona'].str.replace(' 2', '')\n",
    "df_zonas['zona'] = df_zonas['zona'].str.capitalize()\n",
    "df_zonas['zona'].unique()"
   ]
  },
  {
   "cell_type": "code",
   "execution_count": 11,
   "metadata": {},
   "outputs": [],
   "source": [
    "df_zonas.to_excel('../3-BairrosPorZona/teste_zona.xlsx')"
   ]
  },
  {
   "cell_type": "code",
   "execution_count": null,
   "metadata": {},
   "outputs": [],
   "source": []
  }
 ],
 "metadata": {
  "kernelspec": {
   "display_name": "Python 3",
   "language": "python",
   "name": "python3"
  },
  "language_info": {
   "codemirror_mode": {
    "name": "ipython",
    "version": 3
   },
   "file_extension": ".py",
   "mimetype": "text/x-python",
   "name": "python",
   "nbconvert_exporter": "python",
   "pygments_lexer": "ipython3",
   "version": "3.6.1"
  }
 },
 "nbformat": 4,
 "nbformat_minor": 2
}
