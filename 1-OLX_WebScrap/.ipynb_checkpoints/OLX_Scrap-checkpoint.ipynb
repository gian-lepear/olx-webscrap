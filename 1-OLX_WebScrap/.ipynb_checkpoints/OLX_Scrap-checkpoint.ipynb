{
 "cells": [
  {
   "cell_type": "code",
   "execution_count": 1,
   "metadata": {},
   "outputs": [],
   "source": [
    "from bs4 import BeautifulSoup\n",
    "import pandas as pd\n",
    "import numpy as np\n",
    "import requests\n",
    "import re\n",
    "import concurrent\n",
    "from time import sleep"
   ]
  },
  {
   "cell_type": "markdown",
   "metadata": {},
   "source": [
    "O que este notebook ira realizar:\n",
    "-------------------------------\n",
    "\n",
    "1. Acessar o site da olx utilizando a biblioteca **BeautifulSoup**, ecnontrar a lista de preços e salvar cada item em uma lista de \"Tags\"\n",
    "2. Encontrar os valores (municipio, estado , categoria, titulo, preco, link) de cada anuncio na lista\n",
    "3. Salvar em um DataFrame do Pandas\n",
    "4. Acessar cada um dos links de cada anuncio no DataFrame, no campo **href** e retira dele o CEP de cada anuncio criando um dicionario neste formato {\"href\":\"cep\"} **(Esta parte do codigo precisa ser aprimorada atualmente demora em torno de 5 à 7min para executar)**\n",
    "5. Adicionar o dicionario de CEP ao dataframe de anuncios utilizando a função _.map_ do Pandas \n",
    "6. Salvar o DataFrame resultante em uma planilha Excel"
   ]
  },
  {
   "cell_type": "code",
   "execution_count": 2,
   "metadata": {},
   "outputs": [],
   "source": [
    "labels = ['local', 'categoria', 'titulo', 'preco', 'href']\n",
    "cep_dict = {}\n",
    "url_leste = \"http://sp.olx.com.br/sao-paulo-e-regiao/zona-leste/imoveis?o=\"\n",
    "url_oeste = 'http://sp.olx.com.br/sao-paulo-e-regiao/zona-oeste/imoveis?o='\n",
    "url_centro = 'http://sp.olx.com.br/sao-paulo-e-regiao/centro/imoveis?o='\n",
    "url_norte = 'http://sp.olx.com.br/sao-paulo-e-regiao/zona-norte/imoveis?o='\n",
    "url_sul = 'http://sp.olx.com.br/sao-paulo-e-regiao/zona-sul/imoveis?o='"
   ]
  },
  {
   "cell_type": "code",
   "execution_count": 3,
   "metadata": {},
   "outputs": [],
   "source": [
    "def retornaSoupOLX(url, num):\n",
    "    li_list = []\n",
    "    headers = requests.utils.default_headers()\n",
    "    headers.update({\n",
    "        'User-Agent': 'Mozilla/5.0 (X11; Ubuntu; Linux x86_64; rv:52.0) Gecko/20100101 Firefox/52.0',\n",
    "    })\n",
    "    for iter in range(num):\n",
    "        sleep(1)\n",
    "        r = requests.get(str(url)+str(iter), headers=headers)\n",
    "        soup = BeautifulSoup(r.content, 'html.parser')\n",
    "        for ultag in soup.find_all('ul', {'class': 'list', 'id':'main-ad-list' }):\n",
    "            for litag in ultag.find_all(lambda tag: tag.name == 'li' and tag.get('class') == ['item']):\n",
    "                li_list.append(litag)\n",
    "    return li_list"
   ]
  },
  {
   "cell_type": "code",
   "execution_count": 4,
   "metadata": {},
   "outputs": [],
   "source": [
    "def tiraEspecialString(string):\n",
    "    return string.text.replace('\\n','').replace('\\t','').replace('R$ ', '').replace('.', '')"
   ]
  },
  {
   "cell_type": "code",
   "execution_count": 5,
   "metadata": {},
   "outputs": [],
   "source": [
    "def tiraEspecialFloat(string):\n",
    "    return string.text.replace('\\n','').replace('\\t','').replace('R$ ', '').replace('.', '').replace(',', '.')"
   ]
  },
  {
   "cell_type": "code",
   "execution_count": 6,
   "metadata": {},
   "outputs": [
    {
     "name": "stdout",
     "output_type": "stream",
     "text": [
      "Wall time: 0 ns\n"
     ]
    }
   ],
   "source": [
    "%%time\n",
    "\n",
    "def criaListaValores(li_list):\n",
    "    valores = []\n",
    "    for elements in li_list:\n",
    "        x = BeautifulSoup(str(elements), 'html.parser')\n",
    "        #encontra a parte onde estão as informaçoes no html\n",
    "        info = x.find('div', {'class':'col-2'})\n",
    "        #encontra a string onde estão o municipio e estado separados por virgula\n",
    "        cidade_estado = tiraEspecialString(info.find('div', {'class':'OLXad-list-line-2'}).find('p', {'class':'text detail-region'}))\n",
    "        #encontra a categoria do anuncio\n",
    "        categoria = tiraEspecialString(info.find('div', {'class':'OLXad-list-line-2'}).find('p', {'class':'text detail-category'}))\n",
    "        #encontra o titulo do anuncio\n",
    "        titulo = tiraEspecialString(info.find('div', {'class':'OLXad-list-line-1 mb5px'}).find('h3', {'class':'OLXad-list-title mb5px'}))\n",
    "        #encontra o html do preço\n",
    "        preco = x.find('div', {'class':'col-3'})\n",
    "        \n",
    "        #trata o html do preço verificando se existe ou não\n",
    "        if preco.find('p', {'class':'OLXad-list-price'}):\n",
    "            preco = tiraEspecialFloat(x.find('div', {'class':'col-3'}).find('p', {'class':'OLXad-list-price'}))\n",
    "        else:\n",
    "            preco = 0.0\n",
    "        #retorna a tag href \"link do anuncio\"\n",
    "        href=x.find('a', {'class':'OLXad-list-link'})\n",
    "        \n",
    "        #retorna o conteudo do atributo href na tag href\n",
    "        href = href['href']\n",
    "        \n",
    "        valores.append([cidade_estado, categoria, titulo, preco, href])\n",
    "    return valores\n",
    "        "
   ]
  },
  {
   "cell_type": "code",
   "execution_count": 7,
   "metadata": {},
   "outputs": [],
   "source": [
    "def findCEP(url):\n",
    "    headers = requests.utils.default_headers()\n",
    "    headers.update({\n",
    "        'User-Agent': 'Mozilla/5.0 (X11; Ubuntu; Linux x86_64; rv:52.0) Gecko/20100101 Firefox/52.0',\n",
    "    })\n",
    "    regx = re.compile('\\d{5}-\\d{3}')\n",
    "    r = requests.get(url, headers = headers)\n",
    "    sleep(1)\n",
    "    soup = BeautifulSoup(r.content, 'html.parser')\n",
    "    cep = soup.find(lambda tag: tag.name == 'strong' and tag.get('class') == ['description'] and regx.match(tag.text.strip(' \\t\\n\\r')) is not None)\n",
    "    if cep:\n",
    "        cep_dict.update({url:cep.text.strip(' \\t\\n\\r')})\n",
    "    else:\n",
    "        cep_dict.update({url:''})"
   ]
  },
  {
   "cell_type": "code",
   "execution_count": 8,
   "metadata": {},
   "outputs": [
    {
     "name": "stdout",
     "output_type": "stream",
     "text": [
      "Wall time: 17min 57s\n"
     ]
    }
   ],
   "source": [
    "%%time\n",
    "#cria as Soups de cada região\n",
    "soup_leste = retornaSoupOLX(url_leste, 100)\n",
    "soup_sul = retornaSoupOLX(url_sul,100)\n",
    "soup_norte = retornaSoupOLX(url_norte, 100)\n",
    "soup_oeste = retornaSoupOLX(url_oeste, 100)\n",
    "soup_centro = retornaSoupOLX(url_centro, 100)"
   ]
  },
  {
   "cell_type": "code",
   "execution_count": 9,
   "metadata": {},
   "outputs": [
    {
     "name": "stdout",
     "output_type": "stream",
     "text": [
      "Wall time: 1min 19s\n"
     ]
    }
   ],
   "source": [
    "%%time\n",
    "#cria lista com os valores separados de cada região\n",
    "valores_leste = criaListaValores(soup_leste)\n",
    "valores_sul = criaListaValores(soup_sul)\n",
    "valores_norte = criaListaValores(soup_norte)\n",
    "valores_oeste = criaListaValores(soup_oeste)\n",
    "valores_centro = criaListaValores(soup_centro)"
   ]
  },
  {
   "cell_type": "code",
   "execution_count": 11,
   "metadata": {},
   "outputs": [
    {
     "name": "stdout",
     "output_type": "stream",
     "text": [
      "Wall time: 479 ms\n"
     ]
    }
   ],
   "source": [
    "%%time\n",
    "#cria o dataframe de cada uma das regiões\n",
    "df_norte = pd.DataFrame(valores_norte, columns=labels)\n",
    "df_sul = pd.DataFrame(valores_sul, columns=labels)\n",
    "df_leste = pd.DataFrame(valores_leste, columns=labels)\n",
    "df_oeste = pd.DataFrame(valores_oeste, columns=labels)\n",
    "df_centro = pd.DataFrame(valores_centro, columns=labels)"
   ]
  },
  {
   "cell_type": "code",
   "execution_count": 12,
   "metadata": {},
   "outputs": [],
   "source": [
    "#cria uma coluna com a Zona de cada dataframe\n",
    "df_norte['zona'] = 'Norte'\n",
    "df_sul['zona'] = 'Sul'\n",
    "df_leste['zona'] = 'Leste'\n",
    "df_oeste['zona'] = 'Oeste'\n",
    "df_centro['zona'] = 'Centro'"
   ]
  },
  {
   "cell_type": "code",
   "execution_count": 13,
   "metadata": {},
   "outputs": [],
   "source": [
    "#criar uma lista de DataFrames e juntalos em apenas um\n",
    "df = pd.DataFrame()\n",
    "lista_df_zona = [\n",
    "    df_norte,\n",
    "    df_sul,\n",
    "    df_leste,\n",
    "    df_oeste,\n",
    "    df_centro\n",
    "]\n",
    "df = df.append(lista_df_zona, ignore_index=True)"
   ]
  },
  {
   "cell_type": "code",
   "execution_count": 14,
   "metadata": {},
   "outputs": [
    {
     "data": {
      "text/html": [
       "<div>\n",
       "<style>\n",
       "    .dataframe thead tr:only-child th {\n",
       "        text-align: right;\n",
       "    }\n",
       "\n",
       "    .dataframe thead th {\n",
       "        text-align: left;\n",
       "    }\n",
       "\n",
       "    .dataframe tbody tr th {\n",
       "        vertical-align: top;\n",
       "    }\n",
       "</style>\n",
       "<table border=\"1\" class=\"dataframe\">\n",
       "  <thead>\n",
       "    <tr style=\"text-align: right;\">\n",
       "      <th></th>\n",
       "      <th>local</th>\n",
       "      <th>categoria</th>\n",
       "      <th>titulo</th>\n",
       "      <th>preco</th>\n",
       "      <th>href</th>\n",
       "      <th>zona</th>\n",
       "      <th>profissional</th>\n",
       "    </tr>\n",
       "  </thead>\n",
       "  <tbody>\n",
       "    <tr>\n",
       "      <th>0</th>\n",
       "      <td>São Paulo, Jardim São Paulo - Norte</td>\n",
       "      <td>Casas</td>\n",
       "      <td>Você busca um região privilegiada para morar?</td>\n",
       "      <td>850000</td>\n",
       "      <td>http://sp.olx.com.br/sao-paulo-e-regiao/imovei...</td>\n",
       "      <td>Norte</td>\n",
       "      <td>False</td>\n",
       "    </tr>\n",
       "    <tr>\n",
       "      <th>1</th>\n",
       "      <td>São Paulo, Vila Guaca</td>\n",
       "      <td>Casas</td>\n",
       "      <td>Alugo Quarto Cozinha e Banheiro</td>\n",
       "      <td>550</td>\n",
       "      <td>http://sp.olx.com.br/sao-paulo-e-regiao/imovei...</td>\n",
       "      <td>Norte</td>\n",
       "      <td>False</td>\n",
       "    </tr>\n",
       "    <tr>\n",
       "      <th>2</th>\n",
       "      <td>São Paulo, Vila Mazzei</td>\n",
       "      <td>Casas</td>\n",
       "      <td>Lindo Sobrado Fotos por WhatsApp</td>\n",
       "      <td>700000</td>\n",
       "      <td>http://sp.olx.com.br/sao-paulo-e-regiao/imovei...</td>\n",
       "      <td>Norte</td>\n",
       "      <td>False</td>\n",
       "    </tr>\n",
       "    <tr>\n",
       "      <th>3</th>\n",
       "      <td>São Paulo, Santana</td>\n",
       "      <td>Aluguel de quartos</td>\n",
       "      <td>Moradia Santana (Pensão para Homens da SAP)</td>\n",
       "      <td>450</td>\n",
       "      <td>http://sp.olx.com.br/sao-paulo-e-regiao/imovei...</td>\n",
       "      <td>Norte</td>\n",
       "      <td>False</td>\n",
       "    </tr>\n",
       "    <tr>\n",
       "      <th>4</th>\n",
       "      <td>São Paulo, Parque Novo Mundo</td>\n",
       "      <td>Terrenos, sítios e fazendas</td>\n",
       "      <td>Terreno área industrial 04 zpi04</td>\n",
       "      <td>395000</td>\n",
       "      <td>http://sp.olx.com.br/sao-paulo-e-regiao/terren...</td>\n",
       "      <td>Norte</td>\n",
       "      <td>False</td>\n",
       "    </tr>\n",
       "  </tbody>\n",
       "</table>\n",
       "</div>"
      ],
      "text/plain": [
       "                                 local                    categoria  \\\n",
       "0  São Paulo, Jardim São Paulo - Norte                        Casas   \n",
       "1                São Paulo, Vila Guaca                        Casas   \n",
       "2               São Paulo, Vila Mazzei                        Casas   \n",
       "3                   São Paulo, Santana           Aluguel de quartos   \n",
       "4         São Paulo, Parque Novo Mundo  Terrenos, sítios e fazendas   \n",
       "\n",
       "                                          titulo    preco  \\\n",
       "0  Você busca um região privilegiada para morar?   850000   \n",
       "1                Alugo Quarto Cozinha e Banheiro      550   \n",
       "2               Lindo Sobrado Fotos por WhatsApp   700000   \n",
       "3    Moradia Santana (Pensão para Homens da SAP)      450   \n",
       "4               Terreno área industrial 04 zpi04   395000   \n",
       "\n",
       "                                                href   zona  profissional  \n",
       "0  http://sp.olx.com.br/sao-paulo-e-regiao/imovei...  Norte         False  \n",
       "1  http://sp.olx.com.br/sao-paulo-e-regiao/imovei...  Norte         False  \n",
       "2  http://sp.olx.com.br/sao-paulo-e-regiao/imovei...  Norte         False  \n",
       "3  http://sp.olx.com.br/sao-paulo-e-regiao/imovei...  Norte         False  \n",
       "4  http://sp.olx.com.br/sao-paulo-e-regiao/terren...  Norte         False  "
      ]
     },
     "execution_count": 14,
     "metadata": {},
     "output_type": "execute_result"
    }
   ],
   "source": [
    "#Retira as categorias que estão mal formatadas e cria uma coluna á parte para os anuncios profissionais\n",
    "df['categoria'] = df['categoria'].str.replace('- Anúncio Profissional', 'Profissional')\n",
    "df['categoria'] = df['categoria'].str.replace('Profissional', '- Profissional')\n",
    "df['categoria'], df['profissional'] = df['categoria'].str.split('-', 1).str\n",
    "df['profissional']=df.profissional.replace(' Profissional', True)\n",
    "df['profissional']=df.profissional.fillna(False)"
   ]
  },
  {
   "cell_type": "code",
   "execution_count": null,
   "metadata": {},
   "outputs": [],
   "source": [
    "#selecionar casas com preços diferente de 0\n",
    "df_casa = df[df['categoria'] == 'Casas']\n",
    "df_casa['preco'] = df_casa['preco'].astype(float)\n",
    "df_casa = df_casa[df_casa['preco']!=0]"
   ]
  },
  {
   "cell_type": "code",
   "execution_count": 16,
   "metadata": {},
   "outputs": [],
   "source": [
    "#Cria uma lista com  os links de cada anuncio\n",
    "list_href = list(df_casa['href'])"
   ]
  },
  {
   "cell_type": "code",
   "execution_count": 17,
   "metadata": {},
   "outputs": [
    {
     "name": "stdout",
     "output_type": "stream",
     "text": [
      "Wall time: 5min 58s\n"
     ]
    }
   ],
   "source": [
    "#Usa Pools para realizar a busca de cep e adicionar ao dicionario 'dict_cep'\n",
    "%%time\n",
    "with concurrent.futures.ThreadPoolExecutor(max_workers=30) as e:\n",
    "     e.map(findCEP, list_href)"
   ]
  },
  {
   "cell_type": "code",
   "execution_count": 43,
   "metadata": {},
   "outputs": [],
   "source": [
    "#Cira um campo CEP no DataFrame juntando o dicionario criado anteriormente\n",
    "df_casa['cep'] = df_casa['href'].map(cep_dict)"
   ]
  },
  {
   "cell_type": "code",
   "execution_count": null,
   "metadata": {},
   "outputs": [],
   "source": [
    "#Aqui dropa o antigo local e separa o 'São Paulo, Bairro' em duas colunas\n",
    "df_casa = pd.concat([df_casa , df_casa['local'].str.split(',', n=1, expand=True)], axis =1)\n",
    "df_casa.drop(['local', 0], axis=1, inplace=True)"
   ]
  },
  {
   "cell_type": "code",
   "execution_count": null,
   "metadata": {},
   "outputs": [],
   "source": [
    "#Aqui dropa o antigo local e separa o 'São Paulo, Bairro' em duas colunas\n",
    "df = pd.concat([df , df['local'].str.split(',', n=1, expand=True)], axis =1)\n",
    "df.drop(['local', 0], axis=1, inplace=True)"
   ]
  },
  {
   "cell_type": "code",
   "execution_count": 31,
   "metadata": {},
   "outputs": [],
   "source": [
    "#Arruma as colunas criadas anteriormente\n",
    "df.columns = ['categoria', 'titulo', 'preco', 'href','zona','profissional', 'bairro']"
   ]
  },
  {
   "cell_type": "code",
   "execution_count": 20,
   "metadata": {},
   "outputs": [],
   "source": [
    "#Arruma as colunas criadas anteriormente\n",
    "df_casa.columns = ['categoria', 'titulo', 'preco', 'href','zona','profissional', 'cep', 'bairro']"
   ]
  },
  {
   "cell_type": "code",
   "execution_count": 46,
   "metadata": {},
   "outputs": [],
   "source": [
    "#Arruma a coluna bairro pois há um espaço como primeiro caractere em todos os registros\n",
    "df_casa['bairro'] = df_casa['bairro'].str.replace(' ', '', n=1)\n",
    "df['bairro'] = df['bairro'].str.replace(' ', '', n=1)"
   ]
  },
  {
   "cell_type": "code",
   "execution_count": 47,
   "metadata": {},
   "outputs": [
    {
     "data": {
      "text/html": [
       "<div>\n",
       "<style>\n",
       "    .dataframe thead tr:only-child th {\n",
       "        text-align: right;\n",
       "    }\n",
       "\n",
       "    .dataframe thead th {\n",
       "        text-align: left;\n",
       "    }\n",
       "\n",
       "    .dataframe tbody tr th {\n",
       "        vertical-align: top;\n",
       "    }\n",
       "</style>\n",
       "<table border=\"1\" class=\"dataframe\">\n",
       "  <thead>\n",
       "    <tr style=\"text-align: right;\">\n",
       "      <th></th>\n",
       "      <th>categoria</th>\n",
       "      <th>titulo</th>\n",
       "      <th>preco</th>\n",
       "      <th>href</th>\n",
       "      <th>zona</th>\n",
       "      <th>profissional</th>\n",
       "      <th>cep</th>\n",
       "      <th>bairro</th>\n",
       "    </tr>\n",
       "  </thead>\n",
       "  <tbody>\n",
       "    <tr>\n",
       "      <th>0</th>\n",
       "      <td>Casas</td>\n",
       "      <td>Você busca um região privilegiada para morar?</td>\n",
       "      <td>850000.0</td>\n",
       "      <td>http://sp.olx.com.br/sao-paulo-e-regiao/imovei...</td>\n",
       "      <td>Norte</td>\n",
       "      <td>False</td>\n",
       "      <td>02041-060</td>\n",
       "      <td>Jardim São Paulo - Norte</td>\n",
       "    </tr>\n",
       "    <tr>\n",
       "      <th>1</th>\n",
       "      <td>Casas</td>\n",
       "      <td>Alugo Quarto Cozinha e Banheiro</td>\n",
       "      <td>550.0</td>\n",
       "      <td>http://sp.olx.com.br/sao-paulo-e-regiao/imovei...</td>\n",
       "      <td>Norte</td>\n",
       "      <td>False</td>\n",
       "      <td>02434-120</td>\n",
       "      <td>Vila Guaca</td>\n",
       "    </tr>\n",
       "    <tr>\n",
       "      <th>2</th>\n",
       "      <td>Casas</td>\n",
       "      <td>Lindo Sobrado Fotos por WhatsApp</td>\n",
       "      <td>700000.0</td>\n",
       "      <td>http://sp.olx.com.br/sao-paulo-e-regiao/imovei...</td>\n",
       "      <td>Norte</td>\n",
       "      <td>False</td>\n",
       "      <td>02311-100</td>\n",
       "      <td>Vila Mazzei</td>\n",
       "    </tr>\n",
       "    <tr>\n",
       "      <th>3</th>\n",
       "      <td>Casas</td>\n",
       "      <td>Casa</td>\n",
       "      <td>1500.0</td>\n",
       "      <td>http://sp.olx.com.br/sao-paulo-e-regiao/imovei...</td>\n",
       "      <td>Norte</td>\n",
       "      <td>True</td>\n",
       "      <td>02310-070</td>\n",
       "      <td>Vila Mazzei</td>\n",
       "    </tr>\n",
       "    <tr>\n",
       "      <th>4</th>\n",
       "      <td>Casas</td>\n",
       "      <td>Casa no Tucuruvi, 3 quartos sendo 1 suíte</td>\n",
       "      <td>700000.0</td>\n",
       "      <td>http://sp.olx.com.br/sao-paulo-e-regiao/imovei...</td>\n",
       "      <td>Norte</td>\n",
       "      <td>False</td>\n",
       "      <td>02242-040</td>\n",
       "      <td>Parada Inglesa</td>\n",
       "    </tr>\n",
       "  </tbody>\n",
       "</table>\n",
       "</div>"
      ],
      "text/plain": [
       "  categoria                                         titulo     preco  \\\n",
       "0     Casas  Você busca um região privilegiada para morar?  850000.0   \n",
       "1     Casas                Alugo Quarto Cozinha e Banheiro     550.0   \n",
       "2     Casas               Lindo Sobrado Fotos por WhatsApp  700000.0   \n",
       "3     Casas                                           Casa    1500.0   \n",
       "4     Casas      Casa no Tucuruvi, 3 quartos sendo 1 suíte  700000.0   \n",
       "\n",
       "                                                href   zona  profissional  \\\n",
       "0  http://sp.olx.com.br/sao-paulo-e-regiao/imovei...  Norte         False   \n",
       "1  http://sp.olx.com.br/sao-paulo-e-regiao/imovei...  Norte         False   \n",
       "2  http://sp.olx.com.br/sao-paulo-e-regiao/imovei...  Norte         False   \n",
       "3  http://sp.olx.com.br/sao-paulo-e-regiao/imovei...  Norte          True   \n",
       "4  http://sp.olx.com.br/sao-paulo-e-regiao/imovei...  Norte         False   \n",
       "\n",
       "         cep                    bairro  \n",
       "0  02041-060  Jardim São Paulo - Norte  \n",
       "1  02434-120                Vila Guaca  \n",
       "2  02311-100               Vila Mazzei  \n",
       "3  02310-070               Vila Mazzei  \n",
       "4  02242-040            Parada Inglesa  "
      ]
     },
     "execution_count": 47,
     "metadata": {},
     "output_type": "execute_result"
    }
   ],
   "source": [
    "df_casa.reset_index(drop=True, inplace=True)\n",
    "df_casa.head()"
   ]
  },
  {
   "cell_type": "code",
   "execution_count": null,
   "metadata": {},
   "outputs": [],
   "source": [
    "%%time\n",
    "df_casa.loc[:,df_casa.columns != 'cep'].to_excel('../1-OLX_WebScrap/1_OLX_CASA_SEM_CEP.xlsx')\n",
    "df_casa.to_excel('../1-OLX_WebScrap/1_OLX_CASA_COM_CEP.xlsx')\n",
    "df.to_excel('../1-OLX_WebScrap/1_OLX_TODOS_SEM_CEP.xlsx')"
   ]
  },
  {
   "cell_type": "code",
   "execution_count": null,
   "metadata": {},
   "outputs": [],
   "source": []
  },
  {
   "cell_type": "code",
   "execution_count": null,
   "metadata": {},
   "outputs": [],
   "source": []
  }
 ],
 "metadata": {
  "kernelspec": {
   "display_name": "Python 3",
   "language": "python",
   "name": "python3"
  },
  "language_info": {
   "codemirror_mode": {
    "name": "ipython",
    "version": 3
   },
   "file_extension": ".py",
   "mimetype": "text/x-python",
   "name": "python",
   "nbconvert_exporter": "python",
   "pygments_lexer": "ipython3",
   "version": "3.6.1"
  }
 },
 "nbformat": 4,
 "nbformat_minor": 2
}
