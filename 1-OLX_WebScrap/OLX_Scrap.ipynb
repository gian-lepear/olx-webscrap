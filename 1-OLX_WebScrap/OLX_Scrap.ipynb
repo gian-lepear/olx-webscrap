{
 "cells": [
  {
   "cell_type": "code",
   "execution_count": 1,
   "metadata": {},
   "outputs": [],
   "source": [
    "from bs4 import BeautifulSoup\n",
    "import pandas as pd\n",
    "import numpy as np\n",
    "import requests\n",
    "import re\n",
    "import concurrent\n",
    "from time import sleep\n",
    "from IPython.display import display, Math, Latex"
   ]
  },
  {
   "cell_type": "markdown",
   "metadata": {},
   "source": [
    "O que este notebook ira realizar:\n",
    "-------------------------------\n",
    "\n",
    "1. Acessar o site da olx utilizando a biblioteca **BeautifulSoup**, ecnontrar a lista de preços e salvar cada item em uma lista de \"Tags\"\n",
    "2. Encontrar os valores (municipio, estado , categoria, titulo, preco, link) de cada anuncio na lista\n",
    "3. Salvar em um DataFrame do Pandas\n",
    "4. Acessar cada um dos links de cada anuncio no DataFrame, no campo **href** e retira dele o CEP de cada anuncio criando um dicionario neste formato {\"href\":\"cep\"} **(Esta parte do codigo precisa ser aprimorada atualmente demora em torno de 5 à 7min para executar)**\n",
    "5. Adicionar o dicionario de CEP ao dataframe de anuncios utilizando a função _.map_ do Pandas \n",
    "6. Salvar o DataFrame resultante em uma planilha Excel"
   ]
  },
  {
   "cell_type": "code",
   "execution_count": 2,
   "metadata": {},
   "outputs": [],
   "source": [
    "labels = ['local', 'categoria', 'titulo', 'preco', 'href']\n",
    "cep_dict = {}\n",
    "url = \"http://sp.olx.com.br/sao-paulo-e-regiao/zona-leste/imoveis?o=\""
   ]
  },
  {
   "cell_type": "code",
   "execution_count": 3,
   "metadata": {},
   "outputs": [],
   "source": [
    "def retornaSoupOLX(url, num):\n",
    "    li_list = []\n",
    "    for iter in range(num):\n",
    "        r = requests.get(str(url)+str(iter))\n",
    "        soup = BeautifulSoup(r.content, 'html.parser')\n",
    "        for ultag in soup.find_all('ul', {'class': 'list', 'id':'main-ad-list' }):\n",
    "            for litag in ultag.find_all(lambda tag: tag.name == 'li' and tag.get('class') == ['item']):\n",
    "                li_list.append(litag)\n",
    "    return li_list"
   ]
  },
  {
   "cell_type": "code",
   "execution_count": 4,
   "metadata": {},
   "outputs": [],
   "source": [
    "def tiraEspecialString(string):\n",
    "    return string.text.replace('\\n','').replace('\\t','').replace('R$ ', '').replace('.', '')"
   ]
  },
  {
   "cell_type": "code",
   "execution_count": 5,
   "metadata": {},
   "outputs": [],
   "source": [
    "def tiraEspecialFloat(string):\n",
    "    return string.text.replace('\\n','').replace('\\t','').replace('R$ ', '').replace('.', '').replace(',', '.')"
   ]
  },
  {
   "cell_type": "code",
   "execution_count": 6,
   "metadata": {},
   "outputs": [
    {
     "name": "stdout",
     "output_type": "stream",
     "text": [
      "Wall time: 0 ns\n"
     ]
    }
   ],
   "source": [
    "%%time\n",
    "\n",
    "def criaListaValores(li_list):\n",
    "    valores = []\n",
    "    for elements in li_list:\n",
    "        x = BeautifulSoup(str(elements), 'html.parser')\n",
    "        #encontra a parte onde estão as informaçoes no html\n",
    "        info = x.find('div', {'class':'col-2'})\n",
    "        #encontra a string onde estão o municipio e estado separados por virgula\n",
    "        cidade_estado = tiraEspecialString(info.find('div', {'class':'OLXad-list-line-2'}).find('p', {'class':'text detail-region'}))\n",
    "        #encontra a categoria do anuncio\n",
    "        categoria = tiraEspecialString(info.find('div', {'class':'OLXad-list-line-2'}).find('p', {'class':'text detail-category'}))\n",
    "        #encontra o titulo do anuncio\n",
    "        titulo = tiraEspecialString(info.find('div', {'class':'OLXad-list-line-1 mb5px'}).find('h3', {'class':'OLXad-list-title mb5px'}))\n",
    "        #encontra o html do preço\n",
    "        preco = x.find('div', {'class':'col-3'})\n",
    "        \n",
    "        #trata o html do preço verificando se existe ou não\n",
    "        if preco.find('p', {'class':'OLXad-list-price'}):\n",
    "            preco = tiraEspecialFloat(x.find('div', {'class':'col-3'}).find('p', {'class':'OLXad-list-price'}))\n",
    "        else:\n",
    "            preco = 0.0\n",
    "        #retorna a tag href \"link do anuncio\"\n",
    "        href=x.find('a', {'class':'OLXad-list-link'})\n",
    "        \n",
    "        #retorna o conteudo do atributo href na tag href\n",
    "        href = href['href']\n",
    "        \n",
    "        valores.append([cidade_estado, categoria, titulo, preco, href])\n",
    "    return valores\n",
    "        "
   ]
  },
  {
   "cell_type": "code",
   "execution_count": 7,
   "metadata": {},
   "outputs": [],
   "source": [
    "def findCEP(url):\n",
    "    regx = re.compile('\\d{5}-\\d{3}')\n",
    "    r = requests.get(url)\n",
    "    sleep(2)\n",
    "    soup = BeautifulSoup(r.content, 'html.parser')\n",
    "    cep = soup.find(lambda tag: tag.name == 'strong' and tag.get('class') == ['description'] and regx.match(tag.text.strip(' \\t\\n\\r')) is not None)\n",
    "    if cep:\n",
    "        cep_dict.update({url:cep.text.strip(' \\t\\n\\r')})\n",
    "    else:\n",
    "        cep_dict.update({url:''})"
   ]
  },
  {
   "cell_type": "code",
   "execution_count": 8,
   "metadata": {},
   "outputs": [
    {
     "name": "stdout",
     "output_type": "stream",
     "text": [
      "Wall time: 20.5 s\n"
     ]
    }
   ],
   "source": [
    "%%time\n",
    "soup = retornaSoupOLX(url, 10)"
   ]
  },
  {
   "cell_type": "code",
   "execution_count": 9,
   "metadata": {},
   "outputs": [
    {
     "name": "stdout",
     "output_type": "stream",
     "text": [
      "Wall time: 3.96 s\n"
     ]
    }
   ],
   "source": [
    "%%time\n",
    "valores = criaListaValores(soup)"
   ]
  },
  {
   "cell_type": "code",
   "execution_count": 10,
   "metadata": {},
   "outputs": [
    {
     "name": "stdout",
     "output_type": "stream",
     "text": [
      "Wall time: 3 ms\n"
     ]
    }
   ],
   "source": [
    "%%time\n",
    "df = pd.DataFrame(valores, columns=labels)"
   ]
  },
  {
   "cell_type": "code",
   "execution_count": 11,
   "metadata": {},
   "outputs": [],
   "source": [
    "list_href = list(df['href'])"
   ]
  },
  {
   "cell_type": "code",
   "execution_count": 12,
   "metadata": {},
   "outputs": [
    {
     "name": "stdout",
     "output_type": "stream",
     "text": [
      "Wall time: 1min 37s\n"
     ]
    }
   ],
   "source": [
    "%%time\n",
    "with concurrent.futures.ThreadPoolExecutor(max_workers=20) as e:\n",
    "     e.map(findCEP, list_href)"
   ]
  },
  {
   "cell_type": "code",
   "execution_count": 13,
   "metadata": {},
   "outputs": [],
   "source": [
    "df['cep'] = df['href'].map(cep_dict)"
   ]
  },
  {
   "cell_type": "code",
   "execution_count": 14,
   "metadata": {},
   "outputs": [],
   "source": [
    "df = pd.concat([df , df['local'].str.split(',', n=1, expand=True)], axis =1)"
   ]
  },
  {
   "cell_type": "code",
   "execution_count": 15,
   "metadata": {},
   "outputs": [],
   "source": [
    "# df.to_excel('OLX_Scrap1.xlsx')"
   ]
  },
  {
   "cell_type": "code",
   "execution_count": 16,
   "metadata": {},
   "outputs": [],
   "source": [
    "df.drop(['local', 0], axis=1, inplace=True)"
   ]
  },
  {
   "cell_type": "code",
   "execution_count": 17,
   "metadata": {},
   "outputs": [],
   "source": [
    "df.columns = ['categoria', 'titulo', 'preco', 'href', 'cep', 'bairro']"
   ]
  },
  {
   "cell_type": "code",
   "execution_count": 18,
   "metadata": {},
   "outputs": [],
   "source": [
    "df['categoria'] = df['categoria'].str.replace('- Anúncio Profissional', 'Profissional')\n",
    "df['categoria'] = df['categoria'].str.replace('Profissional', '- Profissional')\n",
    "df['categoria'], df['profissional'] = df['categoria'].str.split('-', 1).str"
   ]
  },
  {
   "cell_type": "code",
   "execution_count": 19,
   "metadata": {},
   "outputs": [
    {
     "data": {
      "text/plain": [
       "array(['Casas', 'Indústria e comércio', 'Apartamentos',\n",
       "       'Terrenos, sítios e fazendas', 'Aluguel de quartos', 'Temporada'], dtype=object)"
      ]
     },
     "execution_count": 19,
     "metadata": {},
     "output_type": "execute_result"
    }
   ],
   "source": [
    "df.categoria.unique()"
   ]
  },
  {
   "cell_type": "code",
   "execution_count": 20,
   "metadata": {},
   "outputs": [
    {
     "data": {
      "text/html": [
       "<div>\n",
       "<style>\n",
       "    .dataframe thead tr:only-child th {\n",
       "        text-align: right;\n",
       "    }\n",
       "\n",
       "    .dataframe thead th {\n",
       "        text-align: left;\n",
       "    }\n",
       "\n",
       "    .dataframe tbody tr th {\n",
       "        vertical-align: top;\n",
       "    }\n",
       "</style>\n",
       "<table border=\"1\" class=\"dataframe\">\n",
       "  <thead>\n",
       "    <tr style=\"text-align: right;\">\n",
       "      <th></th>\n",
       "      <th>categoria</th>\n",
       "      <th>titulo</th>\n",
       "      <th>preco</th>\n",
       "      <th>href</th>\n",
       "      <th>cep</th>\n",
       "      <th>bairro</th>\n",
       "      <th>profissional</th>\n",
       "    </tr>\n",
       "  </thead>\n",
       "  <tbody>\n",
       "    <tr>\n",
       "      <th>0</th>\n",
       "      <td>Casas</td>\n",
       "      <td>Sobrado na Vila Granada</td>\n",
       "      <td>560000</td>\n",
       "      <td>http://sp.olx.com.br/sao-paulo-e-regiao/imovei...</td>\n",
       "      <td>03622-000</td>\n",
       "      <td>Vila Granada</td>\n",
       "      <td>N</td>\n",
       "    </tr>\n",
       "    <tr>\n",
       "      <th>1</th>\n",
       "      <td>Indústria e comércio</td>\n",
       "      <td>Trailer Móvel + Ponto Comercial</td>\n",
       "      <td>29000</td>\n",
       "      <td>http://sp.olx.com.br/sao-paulo-e-regiao/indust...</td>\n",
       "      <td>08280-190</td>\n",
       "      <td>Cidade Líder</td>\n",
       "      <td>N</td>\n",
       "    </tr>\n",
       "    <tr>\n",
       "      <th>2</th>\n",
       "      <td>Apartamentos</td>\n",
       "      <td>Lindo Apartamento próximo ao Shopping Anália F...</td>\n",
       "      <td>615000</td>\n",
       "      <td>http://sp.olx.com.br/sao-paulo-e-regiao/imovei...</td>\n",
       "      <td>03348-040</td>\n",
       "      <td>Vila Invernada</td>\n",
       "      <td>S</td>\n",
       "    </tr>\n",
       "    <tr>\n",
       "      <th>3</th>\n",
       "      <td>Apartamentos</td>\n",
       "      <td>Apto sem condomínio</td>\n",
       "      <td>100000</td>\n",
       "      <td>http://sp.olx.com.br/sao-paulo-e-regiao/imovei...</td>\n",
       "      <td>08320-390</td>\n",
       "      <td>Parque São Rafael</td>\n",
       "      <td>N</td>\n",
       "    </tr>\n",
       "    <tr>\n",
       "      <th>4</th>\n",
       "      <td>Casas</td>\n",
       "      <td>Casa</td>\n",
       "      <td>400000</td>\n",
       "      <td>http://sp.olx.com.br/sao-paulo-e-regiao/imovei...</td>\n",
       "      <td>08070-310</td>\n",
       "      <td>Parque Cruzeiro do Sul</td>\n",
       "      <td>S</td>\n",
       "    </tr>\n",
       "  </tbody>\n",
       "</table>\n",
       "</div>"
      ],
      "text/plain": [
       "              categoria                                             titulo  \\\n",
       "0                 Casas                            Sobrado na Vila Granada   \n",
       "1  Indústria e comércio                    Trailer Móvel + Ponto Comercial   \n",
       "2          Apartamentos  Lindo Apartamento próximo ao Shopping Anália F...   \n",
       "3          Apartamentos                                Apto sem condomínio   \n",
       "4                 Casas                                               Casa   \n",
       "\n",
       "     preco                                               href        cep  \\\n",
       "0   560000  http://sp.olx.com.br/sao-paulo-e-regiao/imovei...  03622-000   \n",
       "1    29000  http://sp.olx.com.br/sao-paulo-e-regiao/indust...  08280-190   \n",
       "2   615000  http://sp.olx.com.br/sao-paulo-e-regiao/imovei...  03348-040   \n",
       "3   100000  http://sp.olx.com.br/sao-paulo-e-regiao/imovei...  08320-390   \n",
       "4   400000  http://sp.olx.com.br/sao-paulo-e-regiao/imovei...  08070-310   \n",
       "\n",
       "                    bairro profissional  \n",
       "0             Vila Granada            N  \n",
       "1             Cidade Líder            N  \n",
       "2           Vila Invernada            S  \n",
       "3        Parque São Rafael            N  \n",
       "4   Parque Cruzeiro do Sul            S  "
      ]
     },
     "execution_count": 20,
     "metadata": {},
     "output_type": "execute_result"
    }
   ],
   "source": [
    "df['profissional']=df.profissional.replace(' Profissional', 'S')\n",
    "df['profissional']=df.profissional.fillna('N')\n",
    "df.head()"
   ]
  },
  {
   "cell_type": "code",
   "execution_count": 30,
   "metadata": {},
   "outputs": [],
   "source": [
    "df['bairro'] = df['bairro'].str.replace(' ','', n=1)"
   ]
  },
  {
   "cell_type": "code",
   "execution_count": 31,
   "metadata": {},
   "outputs": [],
   "source": [
    "df.loc[:,df.columns != 'href'].to_excel('../1-OLX_WebScrap/1_OLX_SEM_CEP.xlsx')\n",
    "df.to_excel('../1-OLX_WebScrap/1_OLX_COM_CEP.xlsx')"
   ]
  },
  {
   "cell_type": "code",
   "execution_count": null,
   "metadata": {},
   "outputs": [],
   "source": []
  },
  {
   "cell_type": "code",
   "execution_count": null,
   "metadata": {},
   "outputs": [],
   "source": []
  }
 ],
 "metadata": {
  "kernelspec": {
   "display_name": "Python 3",
   "language": "python",
   "name": "python3"
  },
  "language_info": {
   "codemirror_mode": {
    "name": "ipython",
    "version": 3
   },
   "file_extension": ".py",
   "mimetype": "text/x-python",
   "name": "python",
   "nbconvert_exporter": "python",
   "pygments_lexer": "ipython3",
   "version": "3.6.1"
  }
 },
 "nbformat": 4,
 "nbformat_minor": 2
}
